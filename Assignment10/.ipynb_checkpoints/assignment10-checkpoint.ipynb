{
 "cells": [
  {
   "cell_type": "markdown",
   "metadata": {
    "deletable": true,
    "editable": true
   },
   "source": [
    "# Assignment 9\n",
    "## Data driven predictions"
   ]
  },
  {
   "cell_type": "code",
   "execution_count": 1,
   "metadata": {
    "collapsed": true,
    "deletable": true,
    "editable": true
   },
   "outputs": [],
   "source": [
    "import pandas as pd\n",
    "import numpy as np\n",
    "import matplotlib.pyplot as plt\n",
    "import os "
   ]
  },
  {
   "cell_type": "markdown",
   "metadata": {
    "deletable": true,
    "editable": true
   },
   "source": [
    "Importing the external files:\n"
   ]
  },
  {
   "cell_type": "code",
   "execution_count": null,
   "metadata": {
    "collapsed": true,
    "deletable": true,
    "editable": true
   },
   "outputs": [],
   "source": [
    "ExternalFilesFolder =  r\"C:\\Users\\Gilberto\\Desktop\\poli\\Energy building systems\\Data-driven_Building_simulation_Polimi_EETBS\\Data\"\n",
    "ConsumptionFileName= \"consumption_5545.csv\"\n",
    "TemperatureFileName= \"Austin_weather_2014.csv\"\n",
    "IrradianceFileName= \"irradiance_2014_gen.csv\"\n",
    "\n",
    "path_consumptionFile = os.path.join(ExternalFilesFolder,ConsumptionFileName)\n",
    "path_TemperatureFile = os.path.join(ExternalFilesFolder,TemperatureFileName)\n",
    "path_IrradianceFile = os.path.join(ExternalFilesFolder,IrradianceFileName)"
   ]
  },
  {
   "cell_type": "markdown",
   "metadata": {
    "deletable": true,
    "editable": true
   },
   "source": [
    "Reading the files and changing the indexes in order to have the possibility to use them as time datas:"
   ]
  },
  {
   "cell_type": "code",
   "execution_count": null,
   "metadata": {
    "collapsed": false,
    "deletable": true,
    "editable": true
   },
   "outputs": [],
   "source": [
    "DF_consumption = pd.read_csv(path_consumptionFile,sep=\",\", index_col=0)\n",
    "DF_weather = pd.read_csv(path_TemperatureFile,sep=\";\",index_col=0)\n",
    "DF_irradianceSource = pd.read_csv(path_IrradianceFile,sep=\";\",index_col=1)\n",
    "\n",
    "PreviousIndex_c = DF_consumption.index\n",
    "NewIndex_c= pd.to_datetime(PreviousIndex_c)\n",
    "PreviousIndex_w = DF_weather.index\n",
    "NewIndex_w= pd.to_datetime(PreviousIndex_w)\n",
    "PreviousIndex_i = DF_irradianceSource.index\n",
    "NewIndex_i= pd.to_datetime(PreviousIndex_i)\n",
    "\n",
    "DF_consumption.index =NewIndex_c\n",
    "DF_weather.index=NewIndex_w\n",
    "DF_irradianceSource.index=NewIndex_i"
   ]
  },
  {
   "cell_type": "markdown",
   "metadata": {
    "collapsed": false,
    "deletable": true,
    "editable": true
   },
   "source": [
    "Setting Data Frames for the needed datas: temperature, AC consumption and irradiance (wich is correlated to the PV generation):"
   ]
  },
  {
   "cell_type": "code",
   "execution_count": null,
   "metadata": {
    "collapsed": false,
    "deletable": true,
    "editable": true,
    "scrolled": true
   },
   "outputs": [],
   "source": [
    "DF_Temperature= DF_weather[[\"temperature\"]]\n",
    "\n",
    "DF_irradiance=DF_irradianceSource[[\"gen\"]]\n",
    "DF_irradiance[DF_irradiance[\"gen\"]<0] = 0 #setting at zero all the negative datas\n",
    "\n",
    "DF_consumption=DF_consumption\n",
    "\n",
    "DF_joined = DF_consumption.join([DF_Temperature,DF_irradiance])\n",
    "DF_joined.dropna(inplace=True)"
   ]
  },
  {
   "cell_type": "markdown",
   "metadata": {
    "deletable": true,
    "editable": true
   },
   "source": [
    "Creating a copy of my datas which will be modified for predictions, and shifting the temperature datas due to the different time zone of the measurements:"
   ]
  },
  {
   "cell_type": "code",
   "execution_count": null,
   "metadata": {
    "collapsed": false,
    "deletable": true,
    "editable": true
   },
   "outputs": [],
   "source": [
    "df_mod=DF_joined.copy()\n",
    "df_mod.columns=[\"AC_consumption\", \"temperature\",\"irradiance\"]\n",
    "\n",
    "df_mod[\"temperature\"]=df_mod[\"temperature\"].shift(-5)\n",
    "df_mod.dropna(inplace=True)\n",
    "\n",
    "#plotting a normalized version of my DF to see the qualitative behaviour:\n",
    "df_mod_choosendates=df_mod[\"2014-08-01\":\"2014-08-04\"]\n",
    "df_mod_normalized_choosendates=(df_mod_choosendates-df_mod_choosendates.min())/(df_mod_choosendates.max()-df_mod_choosendates.min())\n",
    "df_mod_normalized_choosendates.plot()\n",
    "plt.show()"
   ]
  },
  {
   "cell_type": "markdown",
   "metadata": {
    "deletable": true,
    "editable": true
   },
   "source": [
    "Creating lagged features and applying them to my dataframe in order to have meaningful datas for my predictions:"
   ]
  },
  {
   "cell_type": "code",
   "execution_count": null,
   "metadata": {
    "collapsed": false,
    "deletable": true,
    "editable": true,
    "scrolled": true
   },
   "outputs": [],
   "source": [
    "\n",
    "lag_start=1\n",
    "lag_end=6\n",
    "lag_interval=1\n",
    "df=df_mod\n",
    "\n",
    "def lagfeature(df, column_name, lag_start,lag_end,lag_interval):\n",
    "    for i in range(lag_start, lag_end+1, lag_interval):\n",
    "    \n",
    "        new_column_name= column_name + \"-\"+ str(i)+\"h\"\n",
    "        df[new_column_name]=df[column_name].shift(i)\n",
    "        df.dropna(inplace=True)\n",
    "    return df\n",
    "\n",
    "df_mod= lagfeature(df_mod, \"irradiance\", 3,6,1)\n",
    "df_mod= lagfeature(df_mod, \"temperature\", 1,6,1)\n",
    "df_mod= lagfeature(df_mod, \"AC_consumption\", 1,24,1)\n",
    "df_mod.head(24)"
   ]
  },
  {
   "cell_type": "markdown",
   "metadata": {
    "deletable": true,
    "editable": true
   },
   "source": [
    "Let's add time-related parameters extracted from the indexes converted before:"
   ]
  },
  {
   "cell_type": "code",
   "execution_count": null,
   "metadata": {
    "collapsed": false,
    "deletable": true,
    "editable": true
   },
   "outputs": [],
   "source": [
    "df_mod[\"hour\"]=df_mod.index.hour\n",
    "df_mod[\"day_of_week\"]=df_mod.index.dayofweek\n",
    "df_mod[\"week_of_year\"]=df_mod.index.week\n",
    "df_mod[\"month\"]=df_mod.index.month"
   ]
  },
  {
   "cell_type": "markdown",
   "metadata": {
    "deletable": true,
    "editable": true
   },
   "source": [
    "I need to correlate time and consumption, but time always restart from 0 while consumption values are continuous.\n",
    "To avod this problem I convert \"hour\" into a radiant angle so it's possible to use sin and cos functions with it:"
   ]
  },
  {
   "cell_type": "code",
   "execution_count": null,
   "metadata": {
    "collapsed": false,
    "deletable": true,
    "editable": true
   },
   "outputs": [],
   "source": [
    "df_mod[\"sin_hour\"]=np.sin(df_mod.index.hour*2*np.pi/24)\n",
    "df_mod[\"cos_hour\"]=np.cos(df_mod.index.hour*2*np.pi/24)\n",
    "df_mod.head()"
   ]
  },
  {
   "cell_type": "markdown",
   "metadata": {
    "deletable": true,
    "editable": true
   },
   "source": [
    "Adding and applying other 2 features for improving my predictions:\n",
    "WeekendDetector to know if the day is a working day or not, and DayDetector to set the working hours in a day :"
   ]
  },
  {
   "cell_type": "code",
   "execution_count": null,
   "metadata": {
    "collapsed": true,
    "deletable": true,
    "editable": true
   },
   "outputs": [],
   "source": [
    "def weekendDetector(day):\n",
    "    if (day==5 or day==6):\n",
    "        weekend=1\n",
    "    else:\n",
    "        weekend=0\n",
    "    return weekend\n",
    "    \n",
    "df_mod[\"weekend\"]=df_mod[\"day_of_week\"].apply(weekendDetector)\n",
    "\n",
    "\n",
    "def dayDetector(hour):\n",
    "    if (hour<19 and hour>9):\n",
    "        daylevel=1\n",
    "    else:\n",
    "        daylevel=0\n",
    "    return daylevel\n",
    "    \n",
    "df_mod[\"working_time\"]=df_mod[\"hour\"].apply(dayDetector)"
   ]
  },
  {
   "cell_type": "markdown",
   "metadata": {
    "deletable": true,
    "editable": true
   },
   "source": [
    "Finding correlations between each data:"
   ]
  },
  {
   "cell_type": "code",
   "execution_count": null,
   "metadata": {
    "collapsed": false,
    "deletable": true,
    "editable": true
   },
   "outputs": [],
   "source": [
    "df_mod.corr()"
   ]
  },
  {
   "cell_type": "code",
   "execution_count": null,
   "metadata": {
    "collapsed": false,
    "deletable": true,
    "editable": true
   },
   "outputs": [],
   "source": [
    "df_mod=df_mod[\"2014-03-01\":\"2014-09-30\"]\n",
    "DF_target= df_mod[\"AC_consumption\"] \n",
    "DF_features= df_mod.drop(\"AC_consumption\", axis=1)"
   ]
  },
  {
   "cell_type": "markdown",
   "metadata": {
    "deletable": true,
    "editable": true
   },
   "source": [
    "# Part 2:\n",
    "## Prediction models"
   ]
  },
  {
   "cell_type": "markdown",
   "metadata": {
    "deletable": true,
    "editable": true
   },
   "source": [
    "From now on, let's use sklearn, which uses statistical methods to progressively improve algorithm's performances in identifying data patterns"
   ]
  },
  {
   "cell_type": "code",
   "execution_count": null,
   "metadata": {
    "collapsed": true,
    "deletable": true,
    "editable": true
   },
   "outputs": [],
   "source": [
    "from sklearn.model_selection import train_test_split \n",
    "X_train, X_test, Y_train, Y_test = train_test_split(DF_features,DF_target,test_size = 0.2, random_state=41234)"
   ]
  },
  {
   "cell_type": "markdown",
   "metadata": {
    "deletable": true,
    "editable": true
   },
   "source": [
    "Fitting the model with the training datas:"
   ]
  },
  {
   "cell_type": "code",
   "execution_count": null,
   "metadata": {
    "collapsed": false,
    "deletable": true,
    "editable": true
   },
   "outputs": [],
   "source": [
    "from sklearn import linear_model\n",
    "\n",
    "linear_reg = linear_model.LinearRegression()\n",
    "\n",
    "linear_reg.fit(X_train, Y_train)\n",
    "predicted_linearReg_split = linear_reg.predict(X_test)\n",
    "\n",
    "predicted_DF_linearReg_split=pd.DataFrame(predicted_linearReg_split,index=Y_test.index, columns=[\"AC_cons_predicted_linearReg_split\"])\n",
    "predicted_DF_linearReg_split=predicted_DF_linearReg_split.join(Y_test)\n"
   ]
  },
  {
   "cell_type": "markdown",
   "metadata": {
    "deletable": true,
    "editable": true
   },
   "source": [
    "Let's qualitatively see if it works"
   ]
  },
  {
   "cell_type": "code",
   "execution_count": null,
   "metadata": {
    "collapsed": false,
    "deletable": true,
    "editable": true
   },
   "outputs": [],
   "source": [
    "predicted_DF_linearReg_split_august=predicted_DF_linearReg_split[\"2014-08-01\":\"2014-08-31\"]\n",
    "predicted_DF_linearReg_split_august.plot()\n",
    "plt.show(1)"
   ]
  },
  {
   "cell_type": "markdown",
   "metadata": {
    "deletable": true,
    "editable": true
   },
   "source": [
    "Now let's see how accurate the predictions are:"
   ]
  },
  {
   "cell_type": "code",
   "execution_count": null,
   "metadata": {
    "collapsed": false,
    "deletable": true,
    "editable": true
   },
   "outputs": [],
   "source": [
    "from sklearn.metrics import mean_absolute_error,mean_squared_error,r2_score\n",
    "\n",
    "MAE_linearReg_split= mean_absolute_error(predicted_linearReg_split,Y_test)\n",
    "MSE_linearReg_split= mean_squared_error(predicted_linearReg_split,Y_test)\n",
    "R2_linearReg_split = r2_score(predicted_linearReg_split,Y_test)\n",
    "\n",
    "print (\"R2 of the train test split is: \" +str(R2_linearReg_split))\n"
   ]
  },
  {
   "cell_type": "markdown",
   "metadata": {
    "deletable": true,
    "editable": true
   },
   "source": [
    "Using k-fold model instead of the splitting test one: "
   ]
  },
  {
   "cell_type": "code",
   "execution_count": null,
   "metadata": {
    "collapsed": false,
    "deletable": true,
    "editable": true
   },
   "outputs": [],
   "source": [
    "from sklearn.model_selection import cross_val_predict\n",
    "\n",
    "predict_linearReg_CV = cross_val_predict(linear_reg,DF_features,DF_target,cv=10)\n",
    "predicted_DF_linearReg_CV=pd.DataFrame(predict_linearReg_CV, index=DF_target.index, columns=[\"AC_cons_predicted_linearReg_CV\"])\n",
    "\n",
    "predicted_DF_linearReg_CV=predicted_DF_linearReg_CV.join(DF_target)"
   ]
  },
  {
   "cell_type": "markdown",
   "metadata": {
    "deletable": true,
    "editable": true
   },
   "source": [
    "Qualitative behaviour:"
   ]
  },
  {
   "cell_type": "code",
   "execution_count": null,
   "metadata": {
    "collapsed": false,
    "deletable": true,
    "editable": true
   },
   "outputs": [],
   "source": [
    "predicted_DF_linearReg_CV_august=predicted_DF_linearReg_CV[\"2014-08-01\":\"2014-08-31\"]\n",
    "predicted_DF_linearReg_CV_august.plot()\n",
    "plt.show(1)"
   ]
  },
  {
   "cell_type": "markdown",
   "metadata": {
    "deletable": true,
    "editable": true
   },
   "source": [
    "prediction's accuracy:"
   ]
  },
  {
   "cell_type": "code",
   "execution_count": null,
   "metadata": {
    "collapsed": false,
    "deletable": true,
    "editable": true
   },
   "outputs": [],
   "source": [
    "MAE_linearReg_CV= mean_absolute_error(predict_linearReg_CV,DF_target)\n",
    "MSE_linearReg_CV= mean_squared_error(predict_linearReg_CV,DF_target)\n",
    "R2_linearReg_CV = r2_score(predict_linearReg_CV,DF_target)\n",
    "\n",
    "print (\"R2 of the cross validation model is: \" +str(R2_linearReg_CV))"
   ]
  },
  {
   "cell_type": "markdown",
   "metadata": {
    "deletable": true,
    "editable": true
   },
   "source": [
    "Let's now use Random Forest algorithm:"
   ]
  },
  {
   "cell_type": "code",
   "execution_count": null,
   "metadata": {
    "collapsed": true,
    "deletable": true,
    "editable": true
   },
   "outputs": [],
   "source": [
    "from sklearn.ensemble import RandomForestRegressor\n",
    "\n",
    "reg_RF = RandomForestRegressor() #jus to have a shorter name\n",
    "\n",
    "predict_RF_CV = cross_val_predict(reg_RF,DF_features,DF_target,cv=10)\n",
    "\n",
    "predicted_DF_RF_CV=pd.DataFrame(predict_RF_CV, index=DF_target.index, columns=[\"AC_cons_predicted_RF_CV\"])\n",
    "predicted_DF_RF_CV=predicted_DF_RF_CV.join(DF_target)"
   ]
  },
  {
   "cell_type": "markdown",
   "metadata": {
    "deletable": true,
    "editable": true
   },
   "source": [
    "RF qualitative behaviour:"
   ]
  },
  {
   "cell_type": "code",
   "execution_count": null,
   "metadata": {
    "collapsed": false,
    "deletable": true,
    "editable": true
   },
   "outputs": [],
   "source": [
    "predicted_DF_RF_CV_august=predicted_DF_RF_CV[\"2014-08-01\":\"2014-08-31\"]\n",
    "predicted_DF_RF_CV_august.plot()\n",
    "plt.show()"
   ]
  },
  {
   "cell_type": "markdown",
   "metadata": {
    "deletable": true,
    "editable": true
   },
   "source": [
    "RF algoritmh's precision:"
   ]
  },
  {
   "cell_type": "code",
   "execution_count": null,
   "metadata": {
    "collapsed": false,
    "deletable": true,
    "editable": true
   },
   "outputs": [],
   "source": [
    "MAE_RF_CV= mean_absolute_error(predict_RF_CV,DF_target)\n",
    "MSE_RF_CV= mean_squared_error(predict_RF_CV,DF_target)\n",
    "R2_RF_CV = r2_score(predict_RF_CV,DF_target)\n",
    "\n",
    "print (\"R2 of the RF model is: \" +str(R2_RF_CV))"
   ]
  },
  {
   "cell_type": "markdown",
   "metadata": {
    "deletable": true,
    "editable": true
   },
   "source": [
    "Now, let's use Online learning to progressively improve algorithm's performances: "
   ]
  },
  {
   "cell_type": "code",
   "execution_count": null,
   "metadata": {
    "collapsed": false,
    "deletable": true,
    "editable": true
   },
   "outputs": [],
   "source": [
    "DF_onlineConsumptionPrediction = pd.DataFrame(index=df_mod.index)\n",
    "\n",
    "period_of_training = pd.Timedelta(30, unit=\"d\")\n",
    "\n",
    "FirstTimeStamp_measured = df_mod.index[0]\n",
    "LastTimeStamp_measured = df_mod.index[-1]\n",
    "\n",
    "FirstTimeStamp_toPredict= FirstTimeStamp_measured+period_of_training\n",
    "\n",
    "training_startTimeStamp=FirstTimeStamp_measured\n",
    "training_endTimeStamp=FirstTimeStamp_toPredict\n",
    "\n",
    "timeStamp_toPredict= FirstTimeStamp_toPredict\n",
    "DF_onlineConsumptionPrediction=DF_onlineConsumptionPrediction.truncate(before=training_endTimeStamp)"
   ]
  },
  {
   "cell_type": "markdown",
   "metadata": {
    "collapsed": true,
    "deletable": true,
    "editable": true
   },
   "source": [
    "Setting online training:"
   ]
  },
  {
   "cell_type": "code",
   "execution_count": null,
   "metadata": {
    "collapsed": false,
    "deletable": true,
    "editable": true,
    "scrolled": true
   },
   "outputs": [],
   "source": [
    "while (timeStamp_toPredict< LastTimeStamp_measured):\n",
    "    #print timeStamp_toPredict\n",
    "    #DF_feature_train=DF_features.loc[training_startTimeStamp:training_endTimeStamp]\n",
    "    DF_feature_train=DF_features.truncate(before=training_startTimeStamp,after=training_endTimeStamp)\n",
    "    DF_target_train= DF_target.truncate(before=training_startTimeStamp,after=training_endTimeStamp)\n",
    "    \n",
    "    DF_feature_test = DF_features.loc[timeStamp_toPredict].values.reshape(1,-1) # If you dont add this it gives you an error, because you can not have a single line feature\n",
    "    DF_target_test=DF_target.loc[timeStamp_toPredict]\n",
    "    reg_RF.fit(DF_feature_train,DF_target_train) # Here I am just training with my training data\n",
    "    predicted_Consumption = linear_reg.predict(DF_feature_test)\n",
    "    DF_onlineConsumptionPrediction.loc[timeStamp_toPredict,\"Predicted\"]=predicted_Consumption\n",
    "    DF_onlineConsumptionPrediction.loc[timeStamp_toPredict,\"Real\"] = DF_target_test\n",
    "\n",
    "    \n",
    "    timeStamp_toPredict=timeStamp_toPredict+pd.Timedelta(1, unit=\"h\")\n",
    "    training_endTimeStamp=training_endTimeStamp+pd.Timedelta(1, unit=\"h\")\n",
    "    training_startTimeStamp=training_startTimeStamp + pd.Timedelta(1, unit=\"h\")\n",
    "\n",
    "DF_onlineConsumptionPrediction.dropna(inplace=True)\n",
    "\n",
    "R2_score_online_linearReg = r2_score(DF_onlineConsumptionPrediction[[\"Real\"]],\n",
    "                                     DF_onlineConsumptionPrediction[[\"Predicted\"]])"
   ]
  },
  {
   "cell_type": "code",
   "execution_count": null,
   "metadata": {
    "collapsed": false,
    "deletable": true,
    "editable": true
   },
   "outputs": [],
   "source": [
    "df_mod.index[1265]"
   ]
  },
  {
   "cell_type": "code",
   "execution_count": null,
   "metadata": {
    "collapsed": false,
    "deletable": true,
    "editable": true
   },
   "outputs": [],
   "source": [
    "df_mod.index[-1]"
   ]
  },
  {
   "cell_type": "code",
   "execution_count": null,
   "metadata": {
    "collapsed": true,
    "deletable": true,
    "editable": true
   },
   "outputs": [],
   "source": []
  }
 ],
 "metadata": {
  "kernelspec": {
   "display_name": "Python 2",
   "language": "python",
   "name": "python2"
  },
  "language_info": {
   "codemirror_mode": {
    "name": "ipython",
    "version": 2
   },
   "file_extension": ".py",
   "mimetype": "text/x-python",
   "name": "python",
   "nbconvert_exporter": "python",
   "pygments_lexer": "ipython2",
   "version": "2.7.13"
  }
 },
 "nbformat": 4,
 "nbformat_minor": 2
}
