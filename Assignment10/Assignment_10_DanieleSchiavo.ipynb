{
 "cells": [
  {
   "cell_type": "markdown",
   "metadata": {
    "deletable": true,
    "editable": true
   },
   "source": [
    "# Assignment_10_DanieleSchiavo"
   ]
  },
  {
   "cell_type": "markdown",
   "metadata": {
    "deletable": true,
    "editable": true
   },
   "source": [
    "### Introduction"
   ]
  },
  {
   "cell_type": "markdown",
   "metadata": {
    "deletable": true,
    "editable": true
   },
   "source": [
    "In this assignment will be explained how the prediction of the consumption is done, and the main features of the machines learning. The Machine Learning is the capability of a code to elaborate data, giving as output predictions or decisions. The most important things about Machine learnings is that codes which use this alghoritm, are able to \"learn\", in the sense that, giving them more data, they are able to improve the predictions."
   ]
  },
  {
   "cell_type": "markdown",
   "metadata": {
    "deletable": true,
    "editable": true
   },
   "source": [
    "The first part of the code is essentially already explained in the assignemt 9 infact, in this first part, are imported all the modules and the excel's files, in order to assamble the Data Frame with the data about irradiance, temperature and consumption for each hours of 2014 in Austin, Texas. After this, the Data Frame is modified adding other Data usefull for the prediction."
   ]
  },
  {
   "cell_type": "code",
   "execution_count": 1,
   "metadata": {
    "collapsed": false,
    "deletable": true,
    "editable": true,
    "scrolled": true
   },
   "outputs": [
    {
     "name": "stderr",
     "output_type": "stream",
     "text": [
      "C:\\Users\\elbar\\AppData\\Local\\Enthought\\Canopy\\edm\\envs\\User\\lib\\site-packages\\ipykernel\\__main__.py:34: SettingWithCopyWarning: \n",
      "A value is trying to be set on a copy of a slice from a DataFrame.\n",
      "Try using .loc[row_indexer,col_indexer] = value instead\n",
      "\n",
      "See the caveats in the documentation: http://pandas.pydata.org/pandas-docs/stable/indexing.html#indexing-view-versus-copy\n",
      "C:\\Users\\elbar\\AppData\\Local\\Enthought\\Canopy\\edm\\envs\\User\\lib\\site-packages\\pandas\\core\\frame.py:2346: SettingWithCopyWarning: \n",
      "A value is trying to be set on a copy of a slice from a DataFrame\n",
      "\n",
      "See the caveats in the documentation: http://pandas.pydata.org/pandas-docs/stable/indexing.html#indexing-view-versus-copy\n",
      "  self.loc._setitem_with_indexer(indexer, value)\n",
      "C:\\Users\\elbar\\AppData\\Local\\Enthought\\Canopy\\edm\\envs\\User\\lib\\site-packages\\pandas\\core\\frame.py:2326: SettingWithCopyWarning: \n",
      "A value is trying to be set on a copy of a slice from a DataFrame\n",
      "\n",
      "See the caveats in the documentation: http://pandas.pydata.org/pandas-docs/stable/indexing.html#indexing-view-versus-copy\n",
      "  self._setitem_array(key, value)\n",
      "C:\\Users\\elbar\\AppData\\Local\\Enthought\\Canopy\\edm\\envs\\User\\lib\\site-packages\\ipykernel\\__main__.py:51: SettingWithCopyWarning: \n",
      "A value is trying to be set on a copy of a slice from a DataFrame.\n",
      "Try using .loc[row_indexer,col_indexer] = value instead\n",
      "\n",
      "See the caveats in the documentation: http://pandas.pydata.org/pandas-docs/stable/indexing.html#indexing-view-versus-copy\n"
     ]
    }
   ],
   "source": [
    "import pandas as pd\n",
    "import numpy as np\n",
    "import matplotlib.pyplot as plt\n",
    "import os \n",
    "# importing the external files\n",
    "ExternalFilesFolder =  r\"C:\\Users\\elbar\\Dropbox\\python4ScientificComputing_Numpy_Pandas_MATPLotLIB\\ExternalFiles\"\n",
    "ConsumptionFileName= \"consumption_5545.csv\"\n",
    "TemperatureFileName= \"Austin_weather_2014.csv\"\n",
    "IrradianceFileName= \"irradiance_2014_gen.csv\"\n",
    "\n",
    "path_consumptionFile = os.path.join(ExternalFilesFolder,ConsumptionFileName)\n",
    "path_TemperatureFile = os.path.join(ExternalFilesFolder,TemperatureFileName)\n",
    "path_IrradianceFile = os.path.join(ExternalFilesFolder,IrradianceFileName)\n",
    "\n",
    "DF_consumption = pd.read_csv(path_consumptionFile,sep=\",\", index_col=0)\n",
    "PreviousIndex = DF_consumption.index\n",
    "NewParsedIndex= pd.to_datetime(PreviousIndex)\n",
    "DF_consumption.index =NewParsedIndex \n",
    "\n",
    "\n",
    "DF_weather = pd.read_csv(path_TemperatureFile,sep=\";\",index_col=0)\n",
    "previousIndex_weather=DF_weather.index\n",
    "newIndex_weather=pd.to_datetime(previousIndex_weather)\n",
    "DF_weather.index = newIndex_weather\n",
    "\n",
    "DF_Temperature= DF_weather[[\"temperature\"]]\n",
    "\n",
    "\n",
    "DF_irradianceSource = pd.read_csv(path_IrradianceFile,sep=\";\",index_col=1)\n",
    "\n",
    "DF_irradiance=DF_irradianceSource[[\"gen\"]]\n",
    "\n",
    "DF_irradiance[\"gen\"]<0\n",
    "DF_irradiance[DF_irradiance[\"gen\"]<0] = 0\n",
    "\n",
    "\n",
    "DF_joined = DF_consumption.join([DF_Temperature,DF_irradiance])\n",
    "DF_mod=DF_joined.copy()\n",
    "\n",
    "DF_mod.columns=[\"AC_consumption\",\"temperature\",\"irradiance\"]\n",
    "\n",
    "DF_mod[\"temperature\"]=DF_mod[\"temperature\"].shift(-5)\n",
    "DF_mod=DF_mod.dropna()\n",
    "DF_mod.describe()\n",
    "\n",
    "\n",
    "    \n",
    "def lag_feature(df,column_name,lag_start,lag_end,lag_interval):\n",
    "    for i in range(lag_start,lag_end,lag_interval):\n",
    "        new_column_name= column_name + \"-\" + str(i) + \"hr\"\n",
    "        df[new_column_name]=df[column_name].shift(i)\n",
    "        df=df.dropna()\n",
    "    return(df)\n",
    "\n",
    "lag_start=1\n",
    "lag_end=7\n",
    "lag_interval=1\n",
    "column_name= \"temperature\"\n",
    "df=DF_mod\n",
    "\n",
    "DF_mod=lag_feature(DF_mod,column_name,lag_start,lag_end,lag_interval)\n",
    "\n",
    "DF_mod=lag_feature(DF_mod,\"irradiance\",3,7,1) \n",
    "\n",
    "DF_mod=lag_feature(DF_mod,\"AC_consumption\",1,25,1)\n",
    "\n",
    "\n",
    "#time\n",
    "\n",
    "DF_mod[\"hour\"]=DF_mod.index.hour\n",
    "DF_mod[\"sin_hour\"]=np.sin(DF_mod.index.hour*np.pi/24)\n",
    "DF_mod[\"cos_hour\"]=np.cos(DF_mod.index.hour*np.pi/24)\n",
    "\n",
    "DF_mod[\"DayOfWeek\"]=DF_mod.index.dayofweek\n",
    "DF_mod[\"Month\"]=DF_mod.index.month\n",
    "DF_mod[\"WeekOfYear\"]=DF_mod.index.week\n",
    "\n",
    "def weekendDetector(day):\n",
    "    if (day==5 or day == 6):\n",
    "        weeklanle=1\n",
    "    else:\n",
    "        weeklanle=0\n",
    "    return(weeklanle)\n",
    "\n",
    "DF_mod[\"Weekend\"]=DF_mod[\"DayOfWeek\"].apply(weekendDetector)\n",
    "\n",
    "def DayDetector(hour):\n",
    "    if (hour<19 and hour >=9):\n",
    "        daylanle=1\n",
    "    else:\n",
    "        daylanle=0\n",
    "    return(daylanle)\n",
    "\n",
    "DF_mod[\"Working_Time\"]=DF_mod[\"hour\"].apply(DayDetector)"
   ]
  },
  {
   "cell_type": "markdown",
   "metadata": {
    "deletable": true,
    "editable": true
   },
   "source": [
    "# Machine Learning"
   ]
  },
  {
   "cell_type": "markdown",
   "metadata": {
    "deletable": true,
    "editable": true
   },
   "source": [
    "### Introduction"
   ]
  },
  {
   "cell_type": "markdown",
   "metadata": {
    "deletable": true,
    "editable": true
   },
   "source": [
    "Now our Data Frame has all the data needed to make the prediction. We essentialy provide two types of data: train and test data. The first are formed by input and output, the objective is to elaborate a general rule which associate to each input the correspective output, in few words the ,model is \"learning\". The test data while, are used after that the general rule is estabilished, infact are used by the alghorithm containing the general rule in order to predict the output. This type of procedure is the so called Supervised Learning, applyed to a Regression problem."
   ]
  },
  {
   "cell_type": "markdown",
   "metadata": {
    "deletable": true,
    "editable": true
   },
   "source": [
    "In the following part of code is extracted from the Data Frame only the days where the air condition is used. The DF_target and DF_features are respectively the real consumption that the alghoritm should be able to predict and the Data use to the alghoritm to \"learn\" how to make the predictions. sklearn.model_selection is the module used to create the test and training data from the features and the target, the test size is the amount of data to use, in this case the 20 %."
   ]
  },
  {
   "cell_type": "code",
   "execution_count": 2,
   "metadata": {
    "collapsed": true,
    "deletable": true,
    "editable": true
   },
   "outputs": [],
   "source": [
    "DF_mod=DF_mod[\"2014-03-01\":\"2014-09-30\"]\n",
    "\n",
    "DF_target=DF_mod[\"AC_consumption\"]\n",
    "DF_features=DF_mod.drop(\"AC_consumption\", axis=1)\n",
    "\n",
    "#From now on we should use test and trainig\n",
    "\n",
    "from sklearn.model_selection import train_test_split\n",
    "\n",
    "X_train,X_test,Y_train,Y_test=train_test_split(DF_features,DF_target,test_size=0.2, random_state=41234)"
   ]
  },
  {
   "cell_type": "markdown",
   "metadata": {
    "deletable": true,
    "editable": true
   },
   "source": [
    "With \"from sklearn import linear_model\" we import the mathematical model used to make the prediction,in this case a linear model. Then we gives to this model the train data, the test data and with \"predicted_linearReg_split\" we get an array with all the predictions. After, this predicted data are put in a Data frame and compare with the real value, finaly a plot is made in order to visualize grafically the given predictions"
   ]
  },
  {
   "cell_type": "code",
   "execution_count": 3,
   "metadata": {
    "collapsed": false,
    "deletable": true,
    "editable": true
   },
   "outputs": [
    {
     "data": {
      "image/png": "[encoded data removed]",
      "text/plain": [
       "<matplotlib.figure.Figure at 0xcd1a0b8>"
      ]
     },
     "metadata": {},
     "output_type": "display_data"
    }
   ],
   "source": [
    "from sklearn import linear_model\n",
    "linear_reg = linear_model.LinearRegression()\n",
    "linear_reg.fit(X_train,Y_train)\n",
    "predicted_linearReg_split=linear_reg.predict(X_test)\n",
    "\n",
    "predicted_DF_linearReg_split=pd.DataFrame(predicted_linearReg_split,index=Y_test.index, columns=[\"AC_cons_predicted_linearReg_split\"])\n",
    "\n",
    "predicted_DF_linearReg_split=predicted_DF_linearReg_split.join(Y_test)\n",
    "\n",
    "predicted_DF_linearReg_split_August=predicted_DF_linearReg_split[\"2014-08-01\":\"2014-08-30\"]\n",
    "\n",
    "predicted_DF_linearReg_split_August.plot()\n",
    "plt.show()"
   ]
  },
  {
   "cell_type": "markdown",
   "metadata": {
    "deletable": true,
    "editable": true
   },
   "source": [
    "In order to see from a mathematical point the view how our prediction is valid, we calculate the Mean squared error, Mean absolute error and the accuracy."
   ]
  },
  {
   "cell_type": "code",
   "execution_count": 4,
   "metadata": {
    "collapsed": false,
    "deletable": true,
    "editable": true
   },
   "outputs": [
    {
     "name": "stdout",
     "output_type": "stream",
     "text": [
      "The accuracy is the 87.6097805082%\n"
     ]
    }
   ],
   "source": [
    "from sklearn.metrics import mean_absolute_error, mean_squared_error,r2_score\n",
    "MAE_linearReg_split=mean_absolute_error(predicted_linearReg_split,Y_test)\n",
    "MSE_linearReg_split=mean_squared_error(predicted_linearReg_split,Y_test)\n",
    "r2_linearReg_split=r2_score(predicted_linearReg_split,Y_test)\n",
    "print(\"The accuracy is the \"+ str(r2_linearReg_split*100) + \"%\")"
   ]
  },
  {
   "cell_type": "markdown",
   "metadata": {
    "deletable": true,
    "editable": true
   },
   "source": [
    "The second method used for the prediction is the so called \"K-fold Cross Validation\". With this methods we takes a sets of data divided in samples. With a cycle, at each iteration, a sample is used as a test, and the others as a train, the cycle stop when all the samples are used as test and train. This method is used in order to \"better train\" the model, avoiding problems of overfitting, and so improving the accuracy of the predictions."
   ]
  },
  {
   "cell_type": "code",
   "execution_count": 5,
   "metadata": {
    "collapsed": false,
    "deletable": true,
    "editable": true
   },
   "outputs": [
    {
     "name": "stdout",
     "output_type": "stream",
     "text": [
      "The accuracy is the 87.8340716022%\n"
     ]
    }
   ],
   "source": [
    "from sklearn.model_selection import cross_val_predict\n",
    "\n",
    "predict_DF_linearReg_CV = cross_val_predict(linear_reg,DF_features, DF_target, cv=10)\n",
    "predicted_DF_linearReg_CV=pd.DataFrame(predict_DF_linearReg_CV,index=DF_target.index, columns=[\"AC_cons_predicted_linearReg_CV\"])\n",
    "\n",
    "predicted_DF_linearReg_CV=predicted_DF_linearReg_CV.join(DF_target)\n",
    "\n",
    "predicted_DF_linearReg_CV.plot()\n",
    "\n",
    "\n",
    "predicted_DF_linearReg_CV_August=predicted_DF_linearReg_CV[\"2014-08-01\":\"2014-08-30\"]\n",
    "predicted_DF_linearReg_CV_August.plot()\n",
    "\n",
    "MAE_linearReg_CV=mean_absolute_error(predict_DF_linearReg_CV,DF_target)\n",
    "MSE_linearReg_CV=mean_squared_error(predict_DF_linearReg_CV,DF_target)\n",
    "r2_linearReg_CV=r2_score(predict_DF_linearReg_CV,DF_target)\n",
    "print(\"The accuracy is the \"+ str(r2_linearReg_CV*100) + \"%\")"
   ]
  },
  {
   "cell_type": "markdown",
   "metadata": {
    "deletable": true,
    "editable": true
   },
   "source": [
    "Now we use the \"K-fold Cross Validation\" but not with a linear mathematical model, but with another one called Random Forest, which is more accurate than the linear one, but in the other hand this model gives us an higher computitional cost."
   ]
  },
  {
   "cell_type": "code",
   "execution_count": 6,
   "metadata": {
    "collapsed": false,
    "deletable": true,
    "editable": true
   },
   "outputs": [
    {
     "name": "stdout",
     "output_type": "stream",
     "text": [
      "The accuracy is the 90.1680312507%\n"
     ]
    }
   ],
   "source": [
    "from sklearn.ensemble import RandomForestRegressor\n",
    "reg_RF = RandomForestRegressor()\n",
    "\n",
    "predict_RF_CV = cross_val_predict(reg_RF,DF_features, DF_target, cv=10)\n",
    "\n",
    "\n",
    "predicted_DF_RF_CV=pd.DataFrame(predict_RF_CV,index=DF_target.index, columns=[\"AC_cons_predicted_RF_CV\"])\n",
    "\n",
    "predicted_DF_RF_CV=predicted_DF_RF_CV.join(DF_target)\n",
    "\n",
    "predicted_DF_RF_CV.plot()\n",
    "\n",
    "\n",
    "predicted_DF_RF_CV_August=predicted_DF_RF_CV[\"2014-08-01\":\"2014-08-30\"]\n",
    "predicted_DF_RF_CV_August.plot()\n",
    "\n",
    "MAE_RF_CV=mean_absolute_error(predict_RF_CV,DF_target)\n",
    "MSE_RF_CV=mean_squared_error(predict_RF_CV,DF_target)\n",
    "r2_RF_CV=r2_score(predict_RF_CV,DF_target)\n",
    "print(\"The accuracy is the \"+ str(r2_RF_CV*100) + \"%\")"
   ]
  },
  {
   "cell_type": "markdown",
   "metadata": {
    "collapsed": true,
    "deletable": true,
    "editable": true
   },
   "source": [
    "The last procedure showed is the most accurate and complicate to implement. Infact now we want to estabilish a period of time used as a train, and another as test. In our case the train period will be start the march's month. With a while cycle we want to make an \"online prediction\" infact at each iteration is predicted the next our of the the training period (i.e the first hour of april), and the training period is update with the real value of the training period. This iterations run untill the last day of september."
   ]
  },
  {
   "cell_type": "markdown",
   "metadata": {
    "deletable": true,
    "editable": true
   },
   "source": [
    "First of all we must define all the variables: \n",
    "\n",
    "DF_onlineConsumptionPrediction = is an ampty Data Frame where all the prediction will be made\n",
    "\n",
    "period_of_training= is the Data Frame that will be contain the data train\n",
    "\n",
    "FirstTimeStamp_measured & LastTimeStamp_measured = rappresent respectively the first and the last hour of the whole period considered\n",
    "\n",
    "firstTimeStamp_toPredict = is the first hour to predict, which is the next hour after the priod of trainig\n",
    "\n",
    "training_startTimeStamp & training_endTimeStamp= are the first and the last Data used to train\n",
    "\n",
    "timeStamp_toPredict = is the first hour to predict.\n",
    "\n",
    "Finally the DF_onlineConsumptionPrediction is changed and define as the first hour after the training period."
   ]
  },
  {
   "cell_type": "code",
   "execution_count": 7,
   "metadata": {
    "collapsed": false,
    "deletable": true,
    "editable": true
   },
   "outputs": [],
   "source": [
    "DF_onlineConsumptionPrediction = pd.DataFrame(index=DF_mod.index)\n",
    "period_of_training = pd.Timedelta(30, unit=\"d\")\n",
    "\n",
    "FirstTimeStamp_measured = DF_mod.index[0]\n",
    "LastTimeStamp_measured = DF_mod.index[-1]\n",
    "\n",
    "firstTimeStamp_toPredict= FirstTimeStamp_measured+period_of_training\n",
    "\n",
    "training_startTimeStamp= FirstTimeStamp_measured\n",
    "training_endTimeStamp=firstTimeStamp_toPredict\n",
    "timeStamp_toPredict=firstTimeStamp_toPredict\n",
    "\n",
    "DF_onlineConsumptionPrediction=DF_onlineConsumptionPrediction.truncate(before=training_endTimeStamp)\n"
   ]
  },
  {
   "cell_type": "markdown",
   "metadata": {
    "deletable": true,
    "editable": true
   },
   "source": [
    "Now the \"while\" cycle:\n",
    "first are defined the features and the test data (as already explained), than is used the linear regression in order to make the prediction, the data predicted are added to the DF_onlineConsumptionPrediction with the real one and finally are updated the period of trainig and the next hour to predict.\n",
    "Finally we can clearly see that the accuracy is increased by almost 2 % with respect to the preavious prediction model."
   ]
  },
  {
   "cell_type": "code",
   "execution_count": 8,
   "metadata": {
    "collapsed": false,
    "deletable": true,
    "editable": true
   },
   "outputs": [
    {
     "name": "stdout",
     "output_type": "stream",
     "text": [
      "The accuracy is the 91.5015772425%\n"
     ]
    }
   ],
   "source": [
    "while (timeStamp_toPredict < LastTimeStamp_measured):\n",
    "\n",
    "    DF_features_train=DF_features.truncate(before=training_startTimeStamp,after=training_endTimeStamp)\n",
    "    DF_target_train= DF_target.truncate(before=training_startTimeStamp,after=training_endTimeStamp)\n",
    "    \n",
    "    DF_feature_test = DF_features.loc[timeStamp_toPredict].values.reshape(1,-1)\n",
    "    DF_target_test=DF_target.loc[timeStamp_toPredict]\n",
    "    linear_reg.fit(DF_features_train,DF_target_train)\n",
    "    predicted_consumption=linear_reg.predict(DF_feature_test)\n",
    "    DF_onlineConsumptionPrediction.loc[timeStamp_toPredict,\"Predicted\"]=predicted_consumption\n",
    "    DF_onlineConsumptionPrediction.loc[timeStamp_toPredict,\"Real\"]=DF_target_test\n",
    "    \n",
    "        \n",
    "    timeStamp_toPredict=timeStamp_toPredict+pd.Timedelta(1, unit=\"h\")\n",
    "    training_endTimeStamp=training_endTimeStamp+pd.Timedelta(1, unit=\"h\")\n",
    "    training_startTimeStamp=training_startTimeStamp+pd.Timedelta(1, unit=\"h\")\n",
    "    \n",
    "DF_onlineConsumptionPrediction.dropna(inplace=True)\n",
    "R2_score_online_linearReg=r2_score(DF_onlineConsumptionPrediction[[\"Real\"]],DF_onlineConsumptionPrediction[[\"Predicted\"]])\n",
    "print(\"The accuracy is the \"+ str(R2_score_online_linearReg*100) + \"%\")"
   ]
  },
  {
   "cell_type": "markdown",
   "metadata": {
    "deletable": true,
    "editable": true
   },
   "source": [
    "Finaly we can make the same function but using the Random Forest,in order to improve even more the accuracy. \n",
    "\n",
    "N.B\n",
    "\n",
    "The computational cost in this case is real high, it takes 10 minutes!"
   ]
  },
  {
   "cell_type": "code",
   "execution_count": 9,
   "metadata": {
    "collapsed": false,
    "deletable": true,
    "editable": true
   },
   "outputs": [
    {
     "name": "stdout",
     "output_type": "stream",
     "text": [
      "The accuracy is the 98.2653710979%\n"
     ]
    }
   ],
   "source": [
    "firstTimeStamp_toPredict= FirstTimeStamp_measured+period_of_training\n",
    "\n",
    "training_startTimeStamp= FirstTimeStamp_measured\n",
    "training_endTimeStamp=firstTimeStamp_toPredict\n",
    "timeStamp_toPredict=firstTimeStamp_toPredict\n",
    "\n",
    "DF_onlineConsumptionPrediction=DF_onlineConsumptionPrediction.truncate(before=training_endTimeStamp)\n",
    "\n",
    "while (timeStamp_toPredict < LastTimeStamp_measured):\n",
    "\n",
    "    DF_features_train=DF_features.truncate(before=training_startTimeStamp,after=training_endTimeStamp)\n",
    "    DF_target_train= DF_target.truncate(before=training_startTimeStamp,after=training_endTimeStamp)\n",
    "    \n",
    "    DF_feature_test = DF_features.loc[timeStamp_toPredict].values.reshape(1,-1)\n",
    "    DF_target_test=DF_target.loc[timeStamp_toPredict]\n",
    "    reg_RF.fit(DF_features_train,DF_target_train)\n",
    "    predicted_consumption=reg_RF.predict(DF_feature_test)\n",
    "    DF_onlineConsumptionPrediction.loc[timeStamp_toPredict,\"Predicted\"]=predicted_consumption\n",
    "    DF_onlineConsumptionPrediction.loc[timeStamp_toPredict,\"Real\"]=DF_target_test\n",
    "    \n",
    "        \n",
    "    timeStamp_toPredict=timeStamp_toPredict+pd.Timedelta(1, unit=\"h\")\n",
    "    training_endTimeStamp=training_endTimeStamp+pd.Timedelta(1, unit=\"h\")\n",
    "    training_startTimeStamp=training_startTimeStamp+pd.Timedelta(1, unit=\"h\")\n",
    "    \n",
    "DF_onlineConsumptionPrediction.dropna(inplace=True)\n",
    "R2_score_online_linearReg=r2_score(DF_onlineConsumptionPrediction[[\"Real\"]],DF_onlineConsumptionPrediction[[\"Predicted\"]])\n",
    "print(\"The accuracy is the \"+ str(R2_score_online_linearReg*100) + \"%\")"
   ]
  }
 ],
 "metadata": {
  "kernelspec": {
   "display_name": "Python 2",
   "language": "python",
   "name": "python2"
  },
  "language_info": {
   "codemirror_mode": {
    "name": "ipython",
    "version": 2
   },
   "file_extension": ".py",
   "mimetype": "text/x-python",
   "name": "python",
   "nbconvert_exporter": "python",
   "pygments_lexer": "ipython2",
   "version": "2.7.13"
  }
 },
 "nbformat": 4,
 "nbformat_minor": 2
}
