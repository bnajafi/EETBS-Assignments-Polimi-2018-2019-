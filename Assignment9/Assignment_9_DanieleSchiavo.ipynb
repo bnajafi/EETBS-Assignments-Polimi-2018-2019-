{
 "cells": [
  {
   "cell_type": "markdown",
   "metadata": {
    "deletable": true,
    "editable": true
   },
   "source": [
    "# Assignment_9_DanieleSchiavo"
   ]
  },
  {
   "cell_type": "markdown",
   "metadata": {
    "deletable": true,
    "editable": true
   },
   "source": [
    "### In the first part of the code we essesntially import all the modules, and the excel files where our data are, in order to assemble the data frame, containing the values of irradiance, temperture and a AC consumption."
   ]
  },
  {
   "cell_type": "markdown",
   "metadata": {},
   "source": [
    "### N.B\n",
    "Once the data about temperature are taken from the excel file \"Austin_weather_2014.csv\", and gathered to the data frame with the irradiance and consumption data, we see that these value are lagged of 6 hours forward. The reason of this lag is due to the fact that the data about temperature are recorded with the Greenwich time zone. Therfore we should adapt these data to the Austin Time zone (6 hours backward with respect to the Greenwich one) but taking into account also that, the peak of tempearature is one hour after the irradiance one."
   ]
  },
  {
   "cell_type": "code",
   "execution_count": 4,
   "metadata": {
    "collapsed": false,
    "deletable": true,
    "editable": true
   },
   "outputs": [
    {
     "name": "stderr",
     "output_type": "stream",
     "text": [
      "C:\\Users\\elbar\\AppData\\Local\\Enthought\\Canopy\\edm\\envs\\User\\lib\\site-packages\\ipykernel\\__main__.py:39: SettingWithCopyWarning: \n",
      "A value is trying to be set on a copy of a slice from a DataFrame.\n",
      "Try using .loc[row_indexer,col_indexer] = value instead\n",
      "\n",
      "See the caveats in the documentation: http://pandas.pydata.org/pandas-docs/stable/indexing.html#indexing-view-versus-copy\n",
      "C:\\Users\\elbar\\AppData\\Local\\Enthought\\Canopy\\edm\\envs\\User\\lib\\site-packages\\ipykernel\\__main__.py:49: SettingWithCopyWarning: \n",
      "A value is trying to be set on a copy of a slice from a DataFrame.\n",
      "Try using .loc[row_indexer,col_indexer] = value instead\n",
      "\n",
      "See the caveats in the documentation: http://pandas.pydata.org/pandas-docs/stable/indexing.html#indexing-view-versus-copy\n"
     ]
    },
    {
     "data": {
      "text/plain": [
       "<matplotlib.axes._subplots.AxesSubplot at 0xac07c18>"
      ]
     },
     "execution_count": 4,
     "metadata": {},
     "output_type": "execute_result"
    }
   ],
   "source": [
    "# -*- coding: utf-8 -*-\n",
    "import pandas as pd\n",
    "import numpy as np\n",
    "import matplotlib.pyplot as plt\n",
    "import os \n",
    "# importing the external files\n",
    "ExternalFilesFolder =  r\"C:\\Users\\elbar\\Dropbox\\python4ScientificComputing_Numpy_Pandas_MATPLotLIB\\ExternalFiles\"\n",
    "ConsumptionFileName= \"consumption_5545.csv\"\n",
    "TemperatureFileName= \"Austin_weather_2014.csv\"\n",
    "IrradianceFileName= \"irradiance_2014_gen.csv\"\n",
    "\n",
    "path_consumptionFile = os.path.join(ExternalFilesFolder,ConsumptionFileName)\n",
    "path_TemperatureFile = os.path.join(ExternalFilesFolder,TemperatureFileName)\n",
    "path_IrradianceFile = os.path.join(ExternalFilesFolder,IrradianceFileName)\n",
    "\n",
    "DF_consumption = pd.read_csv(path_consumptionFile,sep=\",\", index_col=0)\n",
    "DF_consumption.head()\n",
    "DF_consumption.tail(10)\n",
    "\n",
    "PreviousIndex = DF_consumption.index\n",
    "NewParsedIndex= pd.to_datetime(PreviousIndex)\n",
    "DF_consumption.index =NewParsedIndex \n",
    "\n",
    "DF_weather = pd.read_csv(path_TemperatureFile,sep=\";\",index_col=0)\n",
    "previousIndex_weather=DF_weather.index\n",
    "newIndex_weather=pd.to_datetime(previousIndex_weather)\n",
    "DF_weather.index = newIndex_weather\n",
    "DF_weather.columns\n",
    "Series_Temperature = DF_weather[\"temperature\"]\n",
    "\n",
    "DF_Temperature= DF_weather[[\"temperature\"]]\n",
    "\n",
    "\n",
    "DF_irradianceSource = pd.read_csv(path_IrradianceFile,sep=\";\",index_col=1)\n",
    "\n",
    "DF_irradiance=DF_irradianceSource[[\"gen\"]]\n",
    "\n",
    "DF_irradiance[\"gen\"]<0\n",
    "DF_irradiance[DF_irradiance[\"gen\"]<0] = 0\n",
    "\n",
    "DF_joined = DF_consumption.join([DF_Temperature,DF_irradiance])\n",
    "\n",
    "DF_joined_cleaned = DF_joined.dropna()\n",
    "\n",
    "DF_joined_cleaned_chosenDate=DF_joined_cleaned[\"2014-08-01\":\"2014-08-02\"]\n",
    "DF_joined_cleaned_chosenDate.head()\n",
    "\n",
    "DF_joined_cleaned_chosenDate.describe()\n",
    "DF_joined_cleaned_chosenDate[\"temperature\"]=DF_joined_cleaned_chosenDate[\"temperature\"].shift(-5)\n",
    "\n",
    "\n",
    "DF_joined_cleaned_chosenDate_min=DF_joined_cleaned_chosenDate.min()\n",
    "DF_joined_cleaned_chosenDate_max=DF_joined_cleaned_chosenDate.max()\n",
    "\n",
    "DF_joined_cleaned_chosenDate_normalized=(DF_joined_cleaned_chosenDate-DF_joined_cleaned_chosenDate_min)/(DF_joined_cleaned_chosenDate_max-DF_joined_cleaned_chosenDate_min)\n",
    "\n",
    "DF_joined_cleaned_chosenDate_normalized.plot()"
   ]
  },
  {
   "cell_type": "markdown",
   "metadata": {
    "deletable": true,
    "editable": true
   },
   "source": [
    "# Introduction "
   ]
  },
  {
   "cell_type": "markdown",
   "metadata": {
    "deletable": true,
    "editable": true
   },
   "source": [
    "The main aim of this work is to manage and adjust all the data provided, creating a Data Frame with all the information. Infact, in order to predict the consumption \"next hour\" we need an huge amount of data whiich influence it."
   ]
  },
  {
   "cell_type": "markdown",
   "metadata": {
    "deletable": true,
    "editable": true
   },
   "source": [
    "First of all we need to create a copy of our data frame for thecnical reason. Infact python in order to minimize the memory used, modify the the value of a variable, every time it is changed, even in the previous steps."
   ]
  },
  {
   "cell_type": "code",
   "execution_count": 16,
   "metadata": {
    "collapsed": false,
    "deletable": true,
    "editable": true
   },
   "outputs": [],
   "source": [
    "DF_joined = DF_consumption.join([DF_Temperature,DF_irradiance])\n",
    "DF_mod=DF_joined.copy()"
   ]
  },
  {
   "cell_type": "markdown",
   "metadata": {
    "deletable": true,
    "editable": true
   },
   "source": [
    "Then in order to make more intuitive the tabel, we change the name of the columns with a more pertinent attributes."
   ]
  },
  {
   "cell_type": "code",
   "execution_count": 17,
   "metadata": {
    "collapsed": false,
    "deletable": true,
    "editable": true
   },
   "outputs": [],
   "source": [
    "DF_mod=DF_mod.rename(columns={\"air conditioner_5545\":\"AC_consumption\",\"temperature\":\"temperature\",\"gen\":\"irradiance\"})\n"
   ]
  },
  {
   "cell_type": "markdown",
   "metadata": {
    "deletable": true,
    "editable": true
   },
   "source": [
    "Plotting the value of temperature, irradiance and consumption, we can clearly see a lag among the peaks.\n",
    "This is due to the thermal capacity of the wall during the winter.During the summer while, sun irradiance that came in through the windows, irradiance stuff in room and then, this irradiated stuff will consequently irradiates the ambient.But in our study case, we can see that the temperature peak is lagged for a longer time, this is due to an error in the data collection. Therefore the temperature value must be shifted five hours before. After the shifting, we will have \"Not A Number\" correspondence of the last five value of the temperature in the table, to delete this, we use the function .dropna()."
   ]
  },
  {
   "cell_type": "code",
   "execution_count": 18,
   "metadata": {
    "collapsed": true,
    "deletable": true,
    "editable": true
   },
   "outputs": [],
   "source": [
    "DF_mod[\"temperature\"]=DF_mod[\"temperature\"].shift(-5)\n",
    "DF_mod=DF_mod.dropna()"
   ]
  },
  {
   "cell_type": "markdown",
   "metadata": {
    "deletable": true,
    "editable": true
   },
   "source": [
    "The consumption in the next hour, is strongly depend on the value of the temperature of the hours before. We should built a new columns where are rappresented the values of the temperatures of the 5 hours before. To do this we create a functon which take in input the Data Frame, the new column to add,the lag start and end and the interval's lag. We will see that this function is very useful also to create other columns with different type of lag. Into this function we can find a FOR cycle in which are fist created the columns name, then this new column is add in the data frame and filled whith the values of temperature shifted. Finaly we delate the \"Not A Number\" with dropna()."
   ]
  },
  {
   "cell_type": "code",
   "execution_count": 19,
   "metadata": {
    "collapsed": true,
    "deletable": true,
    "editable": true
   },
   "outputs": [],
   "source": [
    "def lag_feature(df,column_name,lag_start,lag_end,lag_interval):\n",
    "    for i in range(lag_start,lag_end,lag_interval):\n",
    "        new_column_name= column_name + \"-\" + str(i) + \"hr\"\n",
    "        df[new_column_name]=df[column_name].shift(i)\n",
    "        df=df.dropna()\n",
    "    return(df)"
   ]
  },
  {
   "cell_type": "markdown",
   "metadata": {
    "deletable": true,
    "editable": true
   },
   "source": [
    "We apply this function to the temperature:"
   ]
  },
  {
   "cell_type": "code",
   "execution_count": 20,
   "metadata": {
    "collapsed": false,
    "deletable": true,
    "editable": true
   },
   "outputs": [
    {
     "name": "stderr",
     "output_type": "stream",
     "text": [
      "C:\\Users\\elbar\\AppData\\Local\\Enthought\\Canopy\\edm\\envs\\User\\lib\\site-packages\\ipykernel\\__main__.py:4: SettingWithCopyWarning: \n",
      "A value is trying to be set on a copy of a slice from a DataFrame.\n",
      "Try using .loc[row_indexer,col_indexer] = value instead\n",
      "\n",
      "See the caveats in the documentation: http://pandas.pydata.org/pandas-docs/stable/indexing.html#indexing-view-versus-copy\n"
     ]
    }
   ],
   "source": [
    "lag_start=1\n",
    "lag_end=6\n",
    "lag_interval=1\n",
    "column_name= \"temperature\"\n",
    "df=DF_mod\n",
    "\n",
    "DF_mod=lag_feature(DF_mod,column_name,lag_start,lag_end,lag_interval)"
   ]
  },
  {
   "cell_type": "markdown",
   "metadata": {
    "deletable": true,
    "editable": true
   },
   "source": [
    "We apply the function also to the irradiance and the consumption. In fact is common sense to think that the the consuption is dependant also to the value of irradiance and consumption in the hours before. Sperimentally we see that in order to predict the consumption we need the value of irradiance of the third up to sixth hours, and the value of the consumption of the hours up to the day before in order to understand the \"Consumption behaviour\" of the of the building."
   ]
  },
  {
   "cell_type": "code",
   "execution_count": 21,
   "metadata": {
    "collapsed": false,
    "deletable": true,
    "editable": true
   },
   "outputs": [
    {
     "name": "stderr",
     "output_type": "stream",
     "text": [
      "C:\\Users\\elbar\\AppData\\Local\\Enthought\\Canopy\\edm\\envs\\User\\lib\\site-packages\\ipykernel\\__main__.py:4: SettingWithCopyWarning: \n",
      "A value is trying to be set on a copy of a slice from a DataFrame.\n",
      "Try using .loc[row_indexer,col_indexer] = value instead\n",
      "\n",
      "See the caveats in the documentation: http://pandas.pydata.org/pandas-docs/stable/indexing.html#indexing-view-versus-copy\n"
     ]
    }
   ],
   "source": [
    "DF_mod=lag_feature(DF_mod,\"irradiance\",3,6,1) \n"
   ]
  },
  {
   "cell_type": "code",
   "execution_count": 22,
   "metadata": {
    "collapsed": false,
    "deletable": true,
    "editable": true
   },
   "outputs": [
    {
     "name": "stderr",
     "output_type": "stream",
     "text": [
      "C:\\Users\\elbar\\AppData\\Local\\Enthought\\Canopy\\edm\\envs\\User\\lib\\site-packages\\ipykernel\\__main__.py:4: SettingWithCopyWarning: \n",
      "A value is trying to be set on a copy of a slice from a DataFrame.\n",
      "Try using .loc[row_indexer,col_indexer] = value instead\n",
      "\n",
      "See the caveats in the documentation: http://pandas.pydata.org/pandas-docs/stable/indexing.html#indexing-view-versus-copy\n"
     ]
    }
   ],
   "source": [
    "DF_mod=lag_feature(DF_mod,\"AC_consumption\",1,24,1)\n"
   ]
  },
  {
   "cell_type": "markdown",
   "metadata": {
    "deletable": true,
    "editable": true
   },
   "source": [
    "in order to know when the AC system is on or off, we sould add to our data frame the time. Infact if we think to an office, people will be in from 9:00 to 19:00 of Monday to Friday. We first add the hours:"
   ]
  },
  {
   "cell_type": "code",
   "execution_count": 12,
   "metadata": {
    "collapsed": false,
    "deletable": true,
    "editable": true
   },
   "outputs": [],
   "source": [
    "DF_mod[\"hour\"]=DF_mod.index.hour\n"
   ]
  },
  {
   "cell_type": "markdown",
   "metadata": {
    "deletable": true,
    "editable": true
   },
   "source": [
    "Now we should impose a sort of continuity of the time, which is guarantee tanks the sine and cosine"
   ]
  },
  {
   "cell_type": "code",
   "execution_count": 13,
   "metadata": {
    "collapsed": true,
    "deletable": true,
    "editable": true
   },
   "outputs": [],
   "source": [
    "DF_mod[\"sin_hour\"]=np.sin(DF_mod.index.hour*np.pi/24)\n",
    "DF_mod[\"cos_hour\"]=np.cos(DF_mod.index.hour*np.pi/24)"
   ]
  },
  {
   "cell_type": "markdown",
   "metadata": {
    "deletable": true,
    "editable": true
   },
   "source": [
    "Now we add other time parameters like:days of the week, months, and rhe weeks of the year:"
   ]
  },
  {
   "cell_type": "code",
   "execution_count": 14,
   "metadata": {
    "collapsed": true,
    "deletable": true,
    "editable": true
   },
   "outputs": [],
   "source": [
    "DF_mod[\"DayOfWeek\"]=DF_mod.index.dayofweek\n",
    "\n",
    "DF_mod[\"Month\"]=DF_mod.index.month\n",
    "\n",
    "DF_mod[\"WeekOfYear\"]=DF_mod.index.week"
   ]
  },
  {
   "cell_type": "markdown",
   "metadata": {
    "deletable": true,
    "editable": true
   },
   "source": [
    "The last two columns will tell us if it is a work day, and if it is hour work. To do this we create two function to apply to our Data Frame. This function to detect the work day, takes as input the day of the week, and with an if cycle we put 1 if it is a Saturday or a Sunday (marked respectively with 5 and 6) and 0 otherwise. At the same way, the function of the detection of the work hours work: It takes as imput the hours of the day, if their value is between 9 and 19 the IF cycle willput 1, and 0 otherwise. Finaly we apply those function to our data frame"
   ]
  },
  {
   "cell_type": "code",
   "execution_count": 15,
   "metadata": {
    "collapsed": false,
    "deletable": true,
    "editable": true
   },
   "outputs": [],
   "source": [
    "def weekendDetector(day):\n",
    "    if (day==5 or day == 6):\n",
    "        weeklabel=1\n",
    "    else:\n",
    "        weeklabel=0\n",
    "    return(weeklabel)\n",
    "\n",
    "\n",
    "def DayDetector(hour):\n",
    "    if (hour<19 and hour >=9):\n",
    "        daylabel=1\n",
    "    else:\n",
    "        daylabel=0\n",
    "    return(daylabel)\n",
    "\n",
    "DF_mod[\"Weekend\"]=DF_mod[\"DayOfWeek\"].apply(weekendDetector)\n",
    "DF_mod[\"Working_Time\"]=DF_mod[\"hour\"].apply(DayDetector)"
   ]
  },
  {
   "cell_type": "markdown",
   "metadata": {
    "deletable": true,
    "editable": true
   },
   "source": [
    "The final Data Frame is composed of 34 columns. The new Data Frame is now ready to be used in order to predict the consumption of the next hours."
   ]
  }
 ],
 "metadata": {
  "kernelspec": {
   "display_name": "Python 2",
   "language": "python",
   "name": "python2"
  },
  "language_info": {
   "codemirror_mode": {
    "name": "ipython",
    "version": 2
   },
   "file_extension": ".py",
   "mimetype": "text/x-python",
   "name": "python",
   "nbconvert_exporter": "python",
   "pygments_lexer": "ipython2",
   "version": "2.7.13"
  }
 },
 "nbformat": 4,
 "nbformat_minor": 2
}
