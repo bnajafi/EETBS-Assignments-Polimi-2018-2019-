{
 "cells": [
  {
   "cell_type": "markdown",
   "metadata": {},
   "source": [
    "# Assignment 9"
   ]
  },
  {
   "cell_type": "markdown",
   "metadata": {},
   "source": [
    "## Explanation of each step"
   ]
  },
  {
   "cell_type": "markdown",
   "metadata": {},
   "source": [
    "Importing libraries"
   ]
  },
  {
   "cell_type": "code",
   "execution_count": 2,
   "metadata": {
    "collapsed": true
   },
   "outputs": [],
   "source": [
    "import pandas as pd\n",
    "import numpy as np\n",
    "import matplotlib.pyplot as plt\n",
    "import os"
   ]
  },
  {
   "cell_type": "markdown",
   "metadata": {},
   "source": [
    "Importing external files"
   ]
  },
  {
   "cell_type": "code",
   "execution_count": 4,
   "metadata": {
    "collapsed": true
   },
   "outputs": [],
   "source": [
    "ExternalFilesFolder = r\"C:\\Users\\Famiglia\\Documents\\Manuel\\Polimi\\MAGISTRALE\\PRIMO ANNO\\Primo semestre\\Bezhad\\python4ScientificComputing_Numpy_Pandas_MATPLotLIB\\ExternalFiles\"\n",
    "ConsumptionFileName= \"consumption_5545.csv\"\n",
    "TemperatureFileName= \"Austin_weather_2014.csv\"\n",
    "IrradianceFileName= \"irradiance_2014_gen.csv\"\n",
    "\n",
    "path_consumptionFile = os.path.join(ExternalFilesFolder,ConsumptionFileName)\n",
    "path_TemperatureFile = os.path.join(ExternalFilesFolder,TemperatureFileName)\n",
    "path_IrradianceFile = os.path.join(ExternalFilesFolder,IrradianceFileName)\n",
    "\n",
    "DF_consumption = pd.read_csv(path_consumptionFile,sep=\",\", index_col=0)"
   ]
  },
  {
   "cell_type": "markdown",
   "metadata": {},
   "source": [
    "Converting array index into a date time index with pd.to_datetime"
   ]
  },
  {
   "cell_type": "code",
   "execution_count": null,
   "metadata": {
    "collapsed": true
   },
   "outputs": [],
   "source": [
    "PreviousIndex = DF_consumption.index\n",
    "NewParsedIndex= pd.to_datetime(PreviousIndex)\n",
    "DF_consumption.index =NewParsedIndex "
   ]
  },
  {
   "cell_type": "markdown",
   "metadata": {},
   "source": [
    "Choosing a selected period of time to work on and to plot it in two ways"
   ]
  },
  {
   "cell_type": "code",
   "execution_count": 5,
   "metadata": {
    "collapsed": false
   },
   "outputs": [
    {
     "ename": "ValueError",
     "evalue": "invalid literal for float(): 2014-07-03 23:00:00",
     "output_type": "error",
     "traceback": [
      "\u001b[1;31m---------------------------------------------------------------------------\u001b[0m",
      "\u001b[1;31mValueError\u001b[0m                                Traceback (most recent call last)",
      "\u001b[1;32m<ipython-input-5-2fcf21167573>\u001b[0m in \u001b[0;36m<module>\u001b[1;34m()\u001b[0m\n\u001b[0;32m      2\u001b[0m \u001b[1;33m\u001b[0m\u001b[0m\n\u001b[0;32m      3\u001b[0m \u001b[0mplt\u001b[0m\u001b[1;33m.\u001b[0m\u001b[0mfigure\u001b[0m\u001b[1;33m(\u001b[0m\u001b[1;33m)\u001b[0m\u001b[1;33m\u001b[0m\u001b[0m\n\u001b[1;32m----> 4\u001b[1;33m \u001b[0mplt\u001b[0m\u001b[1;33m.\u001b[0m\u001b[0mplot\u001b[0m\u001b[1;33m(\u001b[0m\u001b[0mDF_consumption_someDaysInJuly\u001b[0m\u001b[1;33m)\u001b[0m\u001b[1;33m\u001b[0m\u001b[0m\n\u001b[0m\u001b[0;32m      5\u001b[0m \u001b[0mplt\u001b[0m\u001b[1;33m.\u001b[0m\u001b[0mxlabel\u001b[0m\u001b[1;33m(\u001b[0m\u001b[1;34m\"Time\"\u001b[0m\u001b[1;33m)\u001b[0m\u001b[1;33m\u001b[0m\u001b[0m\n\u001b[0;32m      6\u001b[0m \u001b[0mplt\u001b[0m\u001b[1;33m.\u001b[0m\u001b[0mylabel\u001b[0m\u001b[1;33m(\u001b[0m\u001b[1;34m\"AC Power (W)\"\u001b[0m\u001b[1;33m)\u001b[0m\u001b[1;33m\u001b[0m\u001b[0m\n",
      "\u001b[1;32mC:\\Users\\Famiglia\\AppData\\Local\\Enthought\\Canopy\\edm\\envs\\User\\lib\\site-packages\\matplotlib\\pyplot.pyc\u001b[0m in \u001b[0;36mplot\u001b[1;34m(*args, **kwargs)\u001b[0m\n\u001b[0;32m   3316\u001b[0m                       mplDeprecation)\n\u001b[0;32m   3317\u001b[0m     \u001b[1;32mtry\u001b[0m\u001b[1;33m:\u001b[0m\u001b[1;33m\u001b[0m\u001b[0m\n\u001b[1;32m-> 3318\u001b[1;33m         \u001b[0mret\u001b[0m \u001b[1;33m=\u001b[0m \u001b[0max\u001b[0m\u001b[1;33m.\u001b[0m\u001b[0mplot\u001b[0m\u001b[1;33m(\u001b[0m\u001b[1;33m*\u001b[0m\u001b[0margs\u001b[0m\u001b[1;33m,\u001b[0m \u001b[1;33m**\u001b[0m\u001b[0mkwargs\u001b[0m\u001b[1;33m)\u001b[0m\u001b[1;33m\u001b[0m\u001b[0m\n\u001b[0m\u001b[0;32m   3319\u001b[0m     \u001b[1;32mfinally\u001b[0m\u001b[1;33m:\u001b[0m\u001b[1;33m\u001b[0m\u001b[0m\n\u001b[0;32m   3320\u001b[0m         \u001b[0max\u001b[0m\u001b[1;33m.\u001b[0m\u001b[0m_hold\u001b[0m \u001b[1;33m=\u001b[0m \u001b[0mwashold\u001b[0m\u001b[1;33m\u001b[0m\u001b[0m\n",
      "\u001b[1;32mC:\\Users\\Famiglia\\AppData\\Local\\Enthought\\Canopy\\edm\\envs\\User\\lib\\site-packages\\matplotlib\\__init__.pyc\u001b[0m in \u001b[0;36minner\u001b[1;34m(ax, *args, **kwargs)\u001b[0m\n\u001b[0;32m   1890\u001b[0m                     warnings.warn(msg % (label_namer, func.__name__),\n\u001b[0;32m   1891\u001b[0m                                   RuntimeWarning, stacklevel=2)\n\u001b[1;32m-> 1892\u001b[1;33m             \u001b[1;32mreturn\u001b[0m \u001b[0mfunc\u001b[0m\u001b[1;33m(\u001b[0m\u001b[0max\u001b[0m\u001b[1;33m,\u001b[0m \u001b[1;33m*\u001b[0m\u001b[0margs\u001b[0m\u001b[1;33m,\u001b[0m \u001b[1;33m**\u001b[0m\u001b[0mkwargs\u001b[0m\u001b[1;33m)\u001b[0m\u001b[1;33m\u001b[0m\u001b[0m\n\u001b[0m\u001b[0;32m   1893\u001b[0m         \u001b[0mpre_doc\u001b[0m \u001b[1;33m=\u001b[0m \u001b[0minner\u001b[0m\u001b[1;33m.\u001b[0m\u001b[0m__doc__\u001b[0m\u001b[1;33m\u001b[0m\u001b[0m\n\u001b[0;32m   1894\u001b[0m         \u001b[1;32mif\u001b[0m \u001b[0mpre_doc\u001b[0m \u001b[1;32mis\u001b[0m \u001b[0mNone\u001b[0m\u001b[1;33m:\u001b[0m\u001b[1;33m\u001b[0m\u001b[0m\n",
      "\u001b[1;32mC:\\Users\\Famiglia\\AppData\\Local\\Enthought\\Canopy\\edm\\envs\\User\\lib\\site-packages\\matplotlib\\axes\\_axes.pyc\u001b[0m in \u001b[0;36mplot\u001b[1;34m(self, *args, **kwargs)\u001b[0m\n\u001b[0;32m   1405\u001b[0m \u001b[1;33m\u001b[0m\u001b[0m\n\u001b[0;32m   1406\u001b[0m         \u001b[1;32mfor\u001b[0m \u001b[0mline\u001b[0m \u001b[1;32min\u001b[0m \u001b[0mself\u001b[0m\u001b[1;33m.\u001b[0m\u001b[0m_get_lines\u001b[0m\u001b[1;33m(\u001b[0m\u001b[1;33m*\u001b[0m\u001b[0margs\u001b[0m\u001b[1;33m,\u001b[0m \u001b[1;33m**\u001b[0m\u001b[0mkwargs\u001b[0m\u001b[1;33m)\u001b[0m\u001b[1;33m:\u001b[0m\u001b[1;33m\u001b[0m\u001b[0m\n\u001b[1;32m-> 1407\u001b[1;33m             \u001b[0mself\u001b[0m\u001b[1;33m.\u001b[0m\u001b[0madd_line\u001b[0m\u001b[1;33m(\u001b[0m\u001b[0mline\u001b[0m\u001b[1;33m)\u001b[0m\u001b[1;33m\u001b[0m\u001b[0m\n\u001b[0m\u001b[0;32m   1408\u001b[0m             \u001b[0mlines\u001b[0m\u001b[1;33m.\u001b[0m\u001b[0mappend\u001b[0m\u001b[1;33m(\u001b[0m\u001b[0mline\u001b[0m\u001b[1;33m)\u001b[0m\u001b[1;33m\u001b[0m\u001b[0m\n\u001b[0;32m   1409\u001b[0m \u001b[1;33m\u001b[0m\u001b[0m\n",
      "\u001b[1;32mC:\\Users\\Famiglia\\AppData\\Local\\Enthought\\Canopy\\edm\\envs\\User\\lib\\site-packages\\matplotlib\\axes\\_base.pyc\u001b[0m in \u001b[0;36madd_line\u001b[1;34m(self, line)\u001b[0m\n\u001b[0;32m   1785\u001b[0m             \u001b[0mline\u001b[0m\u001b[1;33m.\u001b[0m\u001b[0mset_clip_path\u001b[0m\u001b[1;33m(\u001b[0m\u001b[0mself\u001b[0m\u001b[1;33m.\u001b[0m\u001b[0mpatch\u001b[0m\u001b[1;33m)\u001b[0m\u001b[1;33m\u001b[0m\u001b[0m\n\u001b[0;32m   1786\u001b[0m \u001b[1;33m\u001b[0m\u001b[0m\n\u001b[1;32m-> 1787\u001b[1;33m         \u001b[0mself\u001b[0m\u001b[1;33m.\u001b[0m\u001b[0m_update_line_limits\u001b[0m\u001b[1;33m(\u001b[0m\u001b[0mline\u001b[0m\u001b[1;33m)\u001b[0m\u001b[1;33m\u001b[0m\u001b[0m\n\u001b[0m\u001b[0;32m   1788\u001b[0m         \u001b[1;32mif\u001b[0m \u001b[1;32mnot\u001b[0m \u001b[0mline\u001b[0m\u001b[1;33m.\u001b[0m\u001b[0mget_label\u001b[0m\u001b[1;33m(\u001b[0m\u001b[1;33m)\u001b[0m\u001b[1;33m:\u001b[0m\u001b[1;33m\u001b[0m\u001b[0m\n\u001b[0;32m   1789\u001b[0m             \u001b[0mline\u001b[0m\u001b[1;33m.\u001b[0m\u001b[0mset_label\u001b[0m\u001b[1;33m(\u001b[0m\u001b[1;34m'_line%d'\u001b[0m \u001b[1;33m%\u001b[0m \u001b[0mlen\u001b[0m\u001b[1;33m(\u001b[0m\u001b[0mself\u001b[0m\u001b[1;33m.\u001b[0m\u001b[0mlines\u001b[0m\u001b[1;33m)\u001b[0m\u001b[1;33m)\u001b[0m\u001b[1;33m\u001b[0m\u001b[0m\n",
      "\u001b[1;32mC:\\Users\\Famiglia\\AppData\\Local\\Enthought\\Canopy\\edm\\envs\\User\\lib\\site-packages\\matplotlib\\axes\\_base.pyc\u001b[0m in \u001b[0;36m_update_line_limits\u001b[1;34m(self, line)\u001b[0m\n\u001b[0;32m   1807\u001b[0m         \u001b[0mFigures\u001b[0m \u001b[0mout\u001b[0m \u001b[0mthe\u001b[0m \u001b[0mdata\u001b[0m \u001b[0mlimit\u001b[0m \u001b[0mof\u001b[0m \u001b[0mthe\u001b[0m \u001b[0mgiven\u001b[0m \u001b[0mline\u001b[0m\u001b[1;33m,\u001b[0m \u001b[0mupdating\u001b[0m \u001b[0mself\u001b[0m\u001b[1;33m.\u001b[0m\u001b[0mdataLim\u001b[0m\u001b[1;33m.\u001b[0m\u001b[1;33m\u001b[0m\u001b[0m\n\u001b[0;32m   1808\u001b[0m         \"\"\"\n\u001b[1;32m-> 1809\u001b[1;33m         \u001b[0mpath\u001b[0m \u001b[1;33m=\u001b[0m \u001b[0mline\u001b[0m\u001b[1;33m.\u001b[0m\u001b[0mget_path\u001b[0m\u001b[1;33m(\u001b[0m\u001b[1;33m)\u001b[0m\u001b[1;33m\u001b[0m\u001b[0m\n\u001b[0m\u001b[0;32m   1810\u001b[0m         \u001b[1;32mif\u001b[0m \u001b[0mpath\u001b[0m\u001b[1;33m.\u001b[0m\u001b[0mvertices\u001b[0m\u001b[1;33m.\u001b[0m\u001b[0msize\u001b[0m \u001b[1;33m==\u001b[0m \u001b[1;36m0\u001b[0m\u001b[1;33m:\u001b[0m\u001b[1;33m\u001b[0m\u001b[0m\n\u001b[0;32m   1811\u001b[0m             \u001b[1;32mreturn\u001b[0m\u001b[1;33m\u001b[0m\u001b[0m\n",
      "\u001b[1;32mC:\\Users\\Famiglia\\AppData\\Local\\Enthought\\Canopy\\edm\\envs\\User\\lib\\site-packages\\matplotlib\\lines.pyc\u001b[0m in \u001b[0;36mget_path\u001b[1;34m(self)\u001b[0m\n\u001b[0;32m    987\u001b[0m         \"\"\"\n\u001b[0;32m    988\u001b[0m         \u001b[1;32mif\u001b[0m \u001b[0mself\u001b[0m\u001b[1;33m.\u001b[0m\u001b[0m_invalidy\u001b[0m \u001b[1;32mor\u001b[0m \u001b[0mself\u001b[0m\u001b[1;33m.\u001b[0m\u001b[0m_invalidx\u001b[0m\u001b[1;33m:\u001b[0m\u001b[1;33m\u001b[0m\u001b[0m\n\u001b[1;32m--> 989\u001b[1;33m             \u001b[0mself\u001b[0m\u001b[1;33m.\u001b[0m\u001b[0mrecache\u001b[0m\u001b[1;33m(\u001b[0m\u001b[1;33m)\u001b[0m\u001b[1;33m\u001b[0m\u001b[0m\n\u001b[0m\u001b[0;32m    990\u001b[0m         \u001b[1;32mreturn\u001b[0m \u001b[0mself\u001b[0m\u001b[1;33m.\u001b[0m\u001b[0m_path\u001b[0m\u001b[1;33m\u001b[0m\u001b[0m\n\u001b[0;32m    991\u001b[0m \u001b[1;33m\u001b[0m\u001b[0m\n",
      "\u001b[1;32mC:\\Users\\Famiglia\\AppData\\Local\\Enthought\\Canopy\\edm\\envs\\User\\lib\\site-packages\\matplotlib\\lines.pyc\u001b[0m in \u001b[0;36mrecache\u001b[1;34m(self, always)\u001b[0m\n\u001b[0;32m    674\u001b[0m                 \u001b[0mx\u001b[0m \u001b[1;33m=\u001b[0m \u001b[0mma\u001b[0m\u001b[1;33m.\u001b[0m\u001b[0masarray\u001b[0m\u001b[1;33m(\u001b[0m\u001b[0mxconv\u001b[0m\u001b[1;33m,\u001b[0m \u001b[0mnp\u001b[0m\u001b[1;33m.\u001b[0m\u001b[0mfloat_\u001b[0m\u001b[1;33m)\u001b[0m\u001b[1;33m.\u001b[0m\u001b[0mfilled\u001b[0m\u001b[1;33m(\u001b[0m\u001b[0mnp\u001b[0m\u001b[1;33m.\u001b[0m\u001b[0mnan\u001b[0m\u001b[1;33m)\u001b[0m\u001b[1;33m\u001b[0m\u001b[0m\n\u001b[0;32m    675\u001b[0m             \u001b[1;32melse\u001b[0m\u001b[1;33m:\u001b[0m\u001b[1;33m\u001b[0m\u001b[0m\n\u001b[1;32m--> 676\u001b[1;33m                 \u001b[0mx\u001b[0m \u001b[1;33m=\u001b[0m \u001b[0mnp\u001b[0m\u001b[1;33m.\u001b[0m\u001b[0masarray\u001b[0m\u001b[1;33m(\u001b[0m\u001b[0mxconv\u001b[0m\u001b[1;33m,\u001b[0m \u001b[0mnp\u001b[0m\u001b[1;33m.\u001b[0m\u001b[0mfloat_\u001b[0m\u001b[1;33m)\u001b[0m\u001b[1;33m\u001b[0m\u001b[0m\n\u001b[0m\u001b[0;32m    677\u001b[0m             \u001b[0mx\u001b[0m \u001b[1;33m=\u001b[0m \u001b[0mx\u001b[0m\u001b[1;33m.\u001b[0m\u001b[0mravel\u001b[0m\u001b[1;33m(\u001b[0m\u001b[1;33m)\u001b[0m\u001b[1;33m\u001b[0m\u001b[0m\n\u001b[0;32m    678\u001b[0m         \u001b[1;32melse\u001b[0m\u001b[1;33m:\u001b[0m\u001b[1;33m\u001b[0m\u001b[0m\n",
      "\u001b[1;32mC:\\Users\\Famiglia\\AppData\\Local\\Enthought\\Canopy\\edm\\envs\\User\\lib\\site-packages\\numpy\\core\\numeric.pyc\u001b[0m in \u001b[0;36masarray\u001b[1;34m(a, dtype, order)\u001b[0m\n\u001b[0;32m    529\u001b[0m \u001b[1;33m\u001b[0m\u001b[0m\n\u001b[0;32m    530\u001b[0m     \"\"\"\n\u001b[1;32m--> 531\u001b[1;33m     \u001b[1;32mreturn\u001b[0m \u001b[0marray\u001b[0m\u001b[1;33m(\u001b[0m\u001b[0ma\u001b[0m\u001b[1;33m,\u001b[0m \u001b[0mdtype\u001b[0m\u001b[1;33m,\u001b[0m \u001b[0mcopy\u001b[0m\u001b[1;33m=\u001b[0m\u001b[0mFalse\u001b[0m\u001b[1;33m,\u001b[0m \u001b[0morder\u001b[0m\u001b[1;33m=\u001b[0m\u001b[0morder\u001b[0m\u001b[1;33m)\u001b[0m\u001b[1;33m\u001b[0m\u001b[0m\n\u001b[0m\u001b[0;32m    532\u001b[0m \u001b[1;33m\u001b[0m\u001b[0m\n\u001b[0;32m    533\u001b[0m \u001b[1;33m\u001b[0m\u001b[0m\n",
      "\u001b[1;31mValueError\u001b[0m: invalid literal for float(): 2014-07-03 23:00:00"
     ]
    }
   ],
   "source": [
    "DF_consumption_someDaysInJuly=DF_consumption[\"2014-07-01 00:00:00\":\"2014-07-03 23:00:00\"]\n",
    "\n",
    "plt.figure()\n",
    "plt.plot(DF_consumption_someDaysInJuly)\n",
    "plt.xlabel(\"Time\")\n",
    "plt.ylabel(\"AC Power (W)\")\n",
    "plt.show()\n",
    "\n",
    "# There is asecond way of doing this !!!\n",
    "plt.figure()\n",
    "DF_consumption_someDaysInJuly.plot()\n",
    "plt.xlabel(\"Time\")\n",
    "plt.ylabel(\"AC Power (W)\")\n",
    "plt.show()"
   ]
  },
  {
   "cell_type": "markdown",
   "metadata": {},
   "source": [
    "Importing the weather data, changing the index into a date time index and creating a series of temperatures"
   ]
  },
  {
   "cell_type": "code",
   "execution_count": 11,
   "metadata": {
    "collapsed": false
   },
   "outputs": [],
   "source": [
    "DF_weather = pd.read_csv(path_TemperatureFile,sep=\";\",index_col=0)\n",
    "\n",
    "previousIndex_weather=DF_weather.index\n",
    "newIndex_weather=pd.to_datetime(previousIndex_weather)\n",
    "DF_weather.index = newIndex_weather\n",
    "\n",
    "DF_weather.columns\n",
    "Series_Temperature = DF_weather[\"temperature\"]\n",
    "\n",
    "DF_Temperature= DF_weather[[\"temperature\"]]"
   ]
  },
  {
   "cell_type": "markdown",
   "metadata": {},
   "source": [
    "Importing irrandiance data, put them in a column and give value zero to all negative irradiance values"
   ]
  },
  {
   "cell_type": "code",
   "execution_count": 12,
   "metadata": {
    "collapsed": false
   },
   "outputs": [
    {
     "name": "stderr",
     "output_type": "stream",
     "text": [
      "C:\\Users\\Famiglia\\AppData\\Local\\Enthought\\Canopy\\edm\\envs\\User\\lib\\site-packages\\ipykernel\\__main__.py:5: SettingWithCopyWarning: \n",
      "A value is trying to be set on a copy of a slice from a DataFrame.\n",
      "Try using .loc[row_indexer,col_indexer] = value instead\n",
      "\n",
      "See the caveats in the documentation: http://pandas.pydata.org/pandas-docs/stable/indexing.html#indexing-view-versus-copy\n"
     ]
    }
   ],
   "source": [
    "DF_irradianceSource = pd.read_csv(path_IrradianceFile,sep=\";\",index_col=1)\n",
    "\n",
    "DF_irradiance=DF_irradianceSource[[\"gen\"]]\n",
    "\n",
    "DF_irradiance[DF_irradiance[\"gen\"]<0] = 0"
   ]
  },
  {
   "cell_type": "markdown",
   "metadata": {},
   "source": [
    "Creating a matrix joining temperature and irradiance columns to the consumption column, basing all to the date time index"
   ]
  },
  {
   "cell_type": "code",
   "execution_count": 13,
   "metadata": {
    "collapsed": true
   },
   "outputs": [],
   "source": [
    "DF_joined = DF_consumption.join([DF_Temperature,DF_irradiance])"
   ]
  },
  {
   "cell_type": "markdown",
   "metadata": {},
   "source": [
    "Deleting all rows with a Nan included in consumption (empty spots), creating a copy with .copy to have cleaned one to work on, end step takes account on a specific period for calculating what's next"
   ]
  },
  {
   "cell_type": "code",
   "execution_count": 14,
   "metadata": {
    "collapsed": true
   },
   "outputs": [],
   "source": [
    "DF_joined_cleaned = DF_joined.dropna()\n",
    "DF_joined_cleaned_copy = DF_joined.dropna().copy()\n",
    "\n",
    "DF_joined_cleaned_chosenDates = DF_joined_cleaned_copy[\"2014-08-01\":\"2014-08-04\"]"
   ]
  },
  {
   "cell_type": "markdown",
   "metadata": {},
   "source": [
    "Shifting the temperature by the time zone lag of 5 hours and describing numerically what we have found"
   ]
  },
  {
   "cell_type": "code",
   "execution_count": null,
   "metadata": {
    "collapsed": true
   },
   "outputs": [],
   "source": [
    "DF_joined_cleaned_chosenDates[\"temperature\"]=DF_joined_cleaned_chosenDates[\"temperature\"].shift(-5)   #per il fuso orario\n",
    "DF_joined_cleaned_chosenDates.dropna()\n",
    "DF_joined_cleaned_chosenDates.head()\n",
    "DF_joined_cleaned_chosenDates.describe()"
   ]
  },
  {
   "cell_type": "markdown",
   "metadata": {},
   "source": [
    "Normalizing of data to have them in the same size graph and plotting them together"
   ]
  },
  {
   "cell_type": "code",
   "execution_count": 16,
   "metadata": {
    "collapsed": false
   },
   "outputs": [
    {
     "data": {
      "text/plain": [
       "<matplotlib.axes._subplots.AxesSubplot at 0xaed2cf8>"
      ]
     },
     "execution_count": 16,
     "metadata": {},
     "output_type": "execute_result"
    }
   ],
   "source": [
    "DF_joined_cleaned_chosenDates_min=DF_joined_cleaned_chosenDates.min()\n",
    "DF_joined_cleaned_chosenDates_max=DF_joined_cleaned_chosenDates.max()\n",
    "DF_joined_cleaned_chosenDates_normalized= (DF_joined_cleaned_chosenDates-DF_joined_cleaned_chosenDates_min)/(DF_joined_cleaned_chosenDates_max-DF_joined_cleaned_chosenDates_min)\n",
    "plt.figure()\n",
    "DF_joined_cleaned_chosenDates_normalized.plot()"
   ]
  },
  {
   "cell_type": "markdown",
   "metadata": {},
   "source": [
    "Reconstructing the dataframe by applying time zone to the whole dataset"
   ]
  },
  {
   "cell_type": "code",
   "execution_count": 17,
   "metadata": {
    "collapsed": true
   },
   "outputs": [],
   "source": [
    "DF_joined = DF_consumption.join([DF_Temperature,DF_irradiance])\n",
    "DF_mod = DF_joined.copy()\n",
    "DF_mod[\"temperature\"]=DF_mod[\"temperature\"].shift(-5)\n",
    "DF_mod.dropna(inplace=True) # It is the same as writing it like this: DF_mod=DF_mod.dropna()"
   ]
  },
  {
   "cell_type": "markdown",
   "metadata": {},
   "source": [
    "Better way to reconstruct the dataframe using a function that applies time zone shift to the dataset and returns different lags for studying the previous temperature values"
   ]
  },
  {
   "cell_type": "code",
   "execution_count": 18,
   "metadata": {
    "collapsed": true
   },
   "outputs": [],
   "source": [
    "\"\"\" Testing the wotking principle of the next function:\n",
    "lag_start=1\n",
    "lag_end = 6\n",
    "lag_interval=1\n",
    " \n",
    "\n",
    "column_name=\"temperature\"\n",
    "df=DF_mod\n",
    "for i in range(lag_start,lag_end+1,lag_interval):\n",
    "    new_column_name = column_name+\" -\"+str(i)+\"hr\"\n",
    "    print new_column_name\n",
    "    df[new_column_name]=df[column_name].shift(i)   \n",
    "    df.dropna(inplace=True) #this removes all the row with a Nan\n",
    "\"\"\"\n",
    "\n",
    "def lag_feature(df,column_name,lag_start,lag_end,lag_interval):\n",
    "    for i in range(lag_start,lag_end+1,lag_interval):\n",
    "        new_column_name = column_name+\" -\"+str(i)+\"hr\"\n",
    "        print new_column_name\n",
    "        df[new_column_name]=df[column_name].shift(i)   \n",
    "        df.dropna(inplace=True) #this removes all the row with a Nan\n",
    "    return df"
   ]
  },
  {
   "cell_type": "code",
   "execution_count": null,
   "metadata": {
    "collapsed": true
   },
   "outputs": [],
   "source": [
    "Ways to rename column indexes"
   ]
  },
  {
   "cell_type": "code",
   "execution_count": null,
   "metadata": {
    "collapsed": true
   },
   "outputs": [],
   "source": [
    "DF_mod=DF_mod.rename(columns={\"air conditioner_5545\":\"AC_consumption\",\"gen\":\"irradiance\"})"
   ]
  },
  {
   "cell_type": "code",
   "execution_count": null,
   "metadata": {
    "collapsed": true
   },
   "outputs": [],
   "source": [
    "Applying of the function to our three columns"
   ]
  },
  {
   "cell_type": "code",
   "execution_count": 19,
   "metadata": {
    "collapsed": false
   },
   "outputs": [
    {
     "name": "stdout",
     "output_type": "stream",
     "text": [
      "temperature -1hr\n",
      "temperature -2hr\n",
      "temperature -3hr\n",
      "temperature -4hr\n",
      "temperature -5hr\n",
      "temperature -6hr\n",
      "irradiance -3hr\n"
     ]
    },
    {
     "ename": "KeyError",
     "evalue": "'irradiance'",
     "output_type": "error",
     "traceback": [
      "\u001b[1;31m---------------------------------------------------------------------------\u001b[0m",
      "\u001b[1;31mKeyError\u001b[0m                                  Traceback (most recent call last)",
      "\u001b[1;32m<ipython-input-19-217e983889dd>\u001b[0m in \u001b[0;36m<module>\u001b[1;34m()\u001b[0m\n\u001b[0;32m      3\u001b[0m \u001b[1;33m\u001b[0m\u001b[0m\n\u001b[0;32m      4\u001b[0m \u001b[1;31m# Let's lag the irraidance , I would do it just for 3 to 6 hours\u001b[0m\u001b[1;33m\u001b[0m\u001b[1;33m\u001b[0m\u001b[0m\n\u001b[1;32m----> 5\u001b[1;33m \u001b[0mDF_mod\u001b[0m\u001b[1;33m=\u001b[0m  \u001b[0mlag_feature\u001b[0m\u001b[1;33m(\u001b[0m\u001b[0mDF_mod\u001b[0m\u001b[1;33m,\u001b[0m\u001b[1;34m\"irradiance\"\u001b[0m\u001b[1;33m,\u001b[0m\u001b[1;36m3\u001b[0m\u001b[1;33m,\u001b[0m\u001b[1;36m6\u001b[0m\u001b[1;33m,\u001b[0m\u001b[1;36m1\u001b[0m\u001b[1;33m)\u001b[0m\u001b[1;33m\u001b[0m\u001b[0m\n\u001b[0m\u001b[0;32m      6\u001b[0m \u001b[1;33m\u001b[0m\u001b[0m\n\u001b[0;32m      7\u001b[0m \u001b[1;31m# Let's add the previous consumptions in the last 24 hours!\u001b[0m\u001b[1;33m\u001b[0m\u001b[1;33m\u001b[0m\u001b[0m\n",
      "\u001b[1;32m<ipython-input-18-84991eb4b79e>\u001b[0m in \u001b[0;36mlag_feature\u001b[1;34m(df, column_name, lag_start, lag_end, lag_interval)\u001b[0m\n\u001b[0;32m      9\u001b[0m         \u001b[0mnew_column_name\u001b[0m \u001b[1;33m=\u001b[0m \u001b[0mcolumn_name\u001b[0m\u001b[1;33m+\u001b[0m\u001b[1;34m\" -\"\u001b[0m\u001b[1;33m+\u001b[0m\u001b[0mstr\u001b[0m\u001b[1;33m(\u001b[0m\u001b[0mi\u001b[0m\u001b[1;33m)\u001b[0m\u001b[1;33m+\u001b[0m\u001b[1;34m\"hr\"\u001b[0m\u001b[1;33m\u001b[0m\u001b[0m\n\u001b[0;32m     10\u001b[0m         \u001b[1;32mprint\u001b[0m \u001b[0mnew_column_name\u001b[0m\u001b[1;33m\u001b[0m\u001b[0m\n\u001b[1;32m---> 11\u001b[1;33m         \u001b[0mdf\u001b[0m\u001b[1;33m[\u001b[0m\u001b[0mnew_column_name\u001b[0m\u001b[1;33m]\u001b[0m\u001b[1;33m=\u001b[0m\u001b[0mdf\u001b[0m\u001b[1;33m[\u001b[0m\u001b[0mcolumn_name\u001b[0m\u001b[1;33m]\u001b[0m\u001b[1;33m.\u001b[0m\u001b[0mshift\u001b[0m\u001b[1;33m(\u001b[0m\u001b[0mi\u001b[0m\u001b[1;33m)\u001b[0m\u001b[1;33m\u001b[0m\u001b[0m\n\u001b[0m\u001b[0;32m     12\u001b[0m         \u001b[0mdf\u001b[0m\u001b[1;33m.\u001b[0m\u001b[0mdropna\u001b[0m\u001b[1;33m(\u001b[0m\u001b[0minplace\u001b[0m\u001b[1;33m=\u001b[0m\u001b[0mTrue\u001b[0m\u001b[1;33m)\u001b[0m \u001b[1;31m#this removes all the row with a Nan\u001b[0m\u001b[1;33m\u001b[0m\u001b[0m\n\u001b[0;32m     13\u001b[0m     \u001b[1;32mreturn\u001b[0m \u001b[0mdf\u001b[0m\u001b[1;33m\u001b[0m\u001b[0m\n",
      "\u001b[1;32mC:\\Users\\Famiglia\\AppData\\Local\\Enthought\\Canopy\\edm\\envs\\User\\lib\\site-packages\\pandas\\core\\frame.pyc\u001b[0m in \u001b[0;36m__getitem__\u001b[1;34m(self, key)\u001b[0m\n\u001b[0;32m   1962\u001b[0m             \u001b[1;32mreturn\u001b[0m \u001b[0mself\u001b[0m\u001b[1;33m.\u001b[0m\u001b[0m_getitem_multilevel\u001b[0m\u001b[1;33m(\u001b[0m\u001b[0mkey\u001b[0m\u001b[1;33m)\u001b[0m\u001b[1;33m\u001b[0m\u001b[0m\n\u001b[0;32m   1963\u001b[0m         \u001b[1;32melse\u001b[0m\u001b[1;33m:\u001b[0m\u001b[1;33m\u001b[0m\u001b[0m\n\u001b[1;32m-> 1964\u001b[1;33m             \u001b[1;32mreturn\u001b[0m \u001b[0mself\u001b[0m\u001b[1;33m.\u001b[0m\u001b[0m_getitem_column\u001b[0m\u001b[1;33m(\u001b[0m\u001b[0mkey\u001b[0m\u001b[1;33m)\u001b[0m\u001b[1;33m\u001b[0m\u001b[0m\n\u001b[0m\u001b[0;32m   1965\u001b[0m \u001b[1;33m\u001b[0m\u001b[0m\n\u001b[0;32m   1966\u001b[0m     \u001b[1;32mdef\u001b[0m \u001b[0m_getitem_column\u001b[0m\u001b[1;33m(\u001b[0m\u001b[0mself\u001b[0m\u001b[1;33m,\u001b[0m \u001b[0mkey\u001b[0m\u001b[1;33m)\u001b[0m\u001b[1;33m:\u001b[0m\u001b[1;33m\u001b[0m\u001b[0m\n",
      "\u001b[1;32mC:\\Users\\Famiglia\\AppData\\Local\\Enthought\\Canopy\\edm\\envs\\User\\lib\\site-packages\\pandas\\core\\frame.pyc\u001b[0m in \u001b[0;36m_getitem_column\u001b[1;34m(self, key)\u001b[0m\n\u001b[0;32m   1969\u001b[0m         \u001b[1;31m# get column\u001b[0m\u001b[1;33m\u001b[0m\u001b[1;33m\u001b[0m\u001b[0m\n\u001b[0;32m   1970\u001b[0m         \u001b[1;32mif\u001b[0m \u001b[0mself\u001b[0m\u001b[1;33m.\u001b[0m\u001b[0mcolumns\u001b[0m\u001b[1;33m.\u001b[0m\u001b[0mis_unique\u001b[0m\u001b[1;33m:\u001b[0m\u001b[1;33m\u001b[0m\u001b[0m\n\u001b[1;32m-> 1971\u001b[1;33m             \u001b[1;32mreturn\u001b[0m \u001b[0mself\u001b[0m\u001b[1;33m.\u001b[0m\u001b[0m_get_item_cache\u001b[0m\u001b[1;33m(\u001b[0m\u001b[0mkey\u001b[0m\u001b[1;33m)\u001b[0m\u001b[1;33m\u001b[0m\u001b[0m\n\u001b[0m\u001b[0;32m   1972\u001b[0m \u001b[1;33m\u001b[0m\u001b[0m\n\u001b[0;32m   1973\u001b[0m         \u001b[1;31m# duplicate columns & possible reduce dimensionality\u001b[0m\u001b[1;33m\u001b[0m\u001b[1;33m\u001b[0m\u001b[0m\n",
      "\u001b[1;32mC:\\Users\\Famiglia\\AppData\\Local\\Enthought\\Canopy\\edm\\envs\\User\\lib\\site-packages\\pandas\\core\\generic.pyc\u001b[0m in \u001b[0;36m_get_item_cache\u001b[1;34m(self, item)\u001b[0m\n\u001b[0;32m   1643\u001b[0m         \u001b[0mres\u001b[0m \u001b[1;33m=\u001b[0m \u001b[0mcache\u001b[0m\u001b[1;33m.\u001b[0m\u001b[0mget\u001b[0m\u001b[1;33m(\u001b[0m\u001b[0mitem\u001b[0m\u001b[1;33m)\u001b[0m\u001b[1;33m\u001b[0m\u001b[0m\n\u001b[0;32m   1644\u001b[0m         \u001b[1;32mif\u001b[0m \u001b[0mres\u001b[0m \u001b[1;32mis\u001b[0m \u001b[0mNone\u001b[0m\u001b[1;33m:\u001b[0m\u001b[1;33m\u001b[0m\u001b[0m\n\u001b[1;32m-> 1645\u001b[1;33m             \u001b[0mvalues\u001b[0m \u001b[1;33m=\u001b[0m \u001b[0mself\u001b[0m\u001b[1;33m.\u001b[0m\u001b[0m_data\u001b[0m\u001b[1;33m.\u001b[0m\u001b[0mget\u001b[0m\u001b[1;33m(\u001b[0m\u001b[0mitem\u001b[0m\u001b[1;33m)\u001b[0m\u001b[1;33m\u001b[0m\u001b[0m\n\u001b[0m\u001b[0;32m   1646\u001b[0m             \u001b[0mres\u001b[0m \u001b[1;33m=\u001b[0m \u001b[0mself\u001b[0m\u001b[1;33m.\u001b[0m\u001b[0m_box_item_values\u001b[0m\u001b[1;33m(\u001b[0m\u001b[0mitem\u001b[0m\u001b[1;33m,\u001b[0m \u001b[0mvalues\u001b[0m\u001b[1;33m)\u001b[0m\u001b[1;33m\u001b[0m\u001b[0m\n\u001b[0;32m   1647\u001b[0m             \u001b[0mcache\u001b[0m\u001b[1;33m[\u001b[0m\u001b[0mitem\u001b[0m\u001b[1;33m]\u001b[0m \u001b[1;33m=\u001b[0m \u001b[0mres\u001b[0m\u001b[1;33m\u001b[0m\u001b[0m\n",
      "\u001b[1;32mC:\\Users\\Famiglia\\AppData\\Local\\Enthought\\Canopy\\edm\\envs\\User\\lib\\site-packages\\pandas\\core\\internals.pyc\u001b[0m in \u001b[0;36mget\u001b[1;34m(self, item, fastpath)\u001b[0m\n\u001b[0;32m   3588\u001b[0m \u001b[1;33m\u001b[0m\u001b[0m\n\u001b[0;32m   3589\u001b[0m             \u001b[1;32mif\u001b[0m \u001b[1;32mnot\u001b[0m \u001b[0misnull\u001b[0m\u001b[1;33m(\u001b[0m\u001b[0mitem\u001b[0m\u001b[1;33m)\u001b[0m\u001b[1;33m:\u001b[0m\u001b[1;33m\u001b[0m\u001b[0m\n\u001b[1;32m-> 3590\u001b[1;33m                 \u001b[0mloc\u001b[0m \u001b[1;33m=\u001b[0m \u001b[0mself\u001b[0m\u001b[1;33m.\u001b[0m\u001b[0mitems\u001b[0m\u001b[1;33m.\u001b[0m\u001b[0mget_loc\u001b[0m\u001b[1;33m(\u001b[0m\u001b[0mitem\u001b[0m\u001b[1;33m)\u001b[0m\u001b[1;33m\u001b[0m\u001b[0m\n\u001b[0m\u001b[0;32m   3591\u001b[0m             \u001b[1;32melse\u001b[0m\u001b[1;33m:\u001b[0m\u001b[1;33m\u001b[0m\u001b[0m\n\u001b[0;32m   3592\u001b[0m                 \u001b[0mindexer\u001b[0m \u001b[1;33m=\u001b[0m \u001b[0mnp\u001b[0m\u001b[1;33m.\u001b[0m\u001b[0marange\u001b[0m\u001b[1;33m(\u001b[0m\u001b[0mlen\u001b[0m\u001b[1;33m(\u001b[0m\u001b[0mself\u001b[0m\u001b[1;33m.\u001b[0m\u001b[0mitems\u001b[0m\u001b[1;33m)\u001b[0m\u001b[1;33m)\u001b[0m\u001b[1;33m[\u001b[0m\u001b[0misnull\u001b[0m\u001b[1;33m(\u001b[0m\u001b[0mself\u001b[0m\u001b[1;33m.\u001b[0m\u001b[0mitems\u001b[0m\u001b[1;33m)\u001b[0m\u001b[1;33m]\u001b[0m\u001b[1;33m\u001b[0m\u001b[0m\n",
      "\u001b[1;32mC:\\Users\\Famiglia\\AppData\\Local\\Enthought\\Canopy\\edm\\envs\\User\\lib\\site-packages\\pandas\\core\\indexes\\base.pyc\u001b[0m in \u001b[0;36mget_loc\u001b[1;34m(self, key, method, tolerance)\u001b[0m\n\u001b[0;32m   2442\u001b[0m                 \u001b[1;32mreturn\u001b[0m \u001b[0mself\u001b[0m\u001b[1;33m.\u001b[0m\u001b[0m_engine\u001b[0m\u001b[1;33m.\u001b[0m\u001b[0mget_loc\u001b[0m\u001b[1;33m(\u001b[0m\u001b[0mkey\u001b[0m\u001b[1;33m)\u001b[0m\u001b[1;33m\u001b[0m\u001b[0m\n\u001b[0;32m   2443\u001b[0m             \u001b[1;32mexcept\u001b[0m \u001b[0mKeyError\u001b[0m\u001b[1;33m:\u001b[0m\u001b[1;33m\u001b[0m\u001b[0m\n\u001b[1;32m-> 2444\u001b[1;33m                 \u001b[1;32mreturn\u001b[0m \u001b[0mself\u001b[0m\u001b[1;33m.\u001b[0m\u001b[0m_engine\u001b[0m\u001b[1;33m.\u001b[0m\u001b[0mget_loc\u001b[0m\u001b[1;33m(\u001b[0m\u001b[0mself\u001b[0m\u001b[1;33m.\u001b[0m\u001b[0m_maybe_cast_indexer\u001b[0m\u001b[1;33m(\u001b[0m\u001b[0mkey\u001b[0m\u001b[1;33m)\u001b[0m\u001b[1;33m)\u001b[0m\u001b[1;33m\u001b[0m\u001b[0m\n\u001b[0m\u001b[0;32m   2445\u001b[0m \u001b[1;33m\u001b[0m\u001b[0m\n\u001b[0;32m   2446\u001b[0m         \u001b[0mindexer\u001b[0m \u001b[1;33m=\u001b[0m \u001b[0mself\u001b[0m\u001b[1;33m.\u001b[0m\u001b[0mget_indexer\u001b[0m\u001b[1;33m(\u001b[0m\u001b[1;33m[\u001b[0m\u001b[0mkey\u001b[0m\u001b[1;33m]\u001b[0m\u001b[1;33m,\u001b[0m \u001b[0mmethod\u001b[0m\u001b[1;33m=\u001b[0m\u001b[0mmethod\u001b[0m\u001b[1;33m,\u001b[0m \u001b[0mtolerance\u001b[0m\u001b[1;33m=\u001b[0m\u001b[0mtolerance\u001b[0m\u001b[1;33m)\u001b[0m\u001b[1;33m\u001b[0m\u001b[0m\n",
      "\u001b[1;32mpandas\\_libs\\index.pyx\u001b[0m in \u001b[0;36mpandas._libs.index.IndexEngine.get_loc (pandas\\_libs\\index.c:5280)\u001b[1;34m()\u001b[0m\n",
      "\u001b[1;32mpandas\\_libs\\index.pyx\u001b[0m in \u001b[0;36mpandas._libs.index.IndexEngine.get_loc (pandas\\_libs\\index.c:5126)\u001b[1;34m()\u001b[0m\n",
      "\u001b[1;32mpandas\\_libs\\hashtable_class_helper.pxi\u001b[0m in \u001b[0;36mpandas._libs.hashtable.PyObjectHashTable.get_item (pandas\\_libs\\hashtable.c:20523)\u001b[1;34m()\u001b[0m\n",
      "\u001b[1;32mpandas\\_libs\\hashtable_class_helper.pxi\u001b[0m in \u001b[0;36mpandas._libs.hashtable.PyObjectHashTable.get_item (pandas\\_libs\\hashtable.c:20477)\u001b[1;34m()\u001b[0m\n",
      "\u001b[1;31mKeyError\u001b[0m: 'irradiance'"
     ]
    }
   ],
   "source": [
    "#Previous 6 hours iterval temperature data \n",
    "DF_mod=  lag_feature(DF_mod,\"temperature\",1,6,1)\n",
    "\n",
    "# Let's lag the irraidance , I would do it just for 3 to 6 hours\n",
    "DF_mod=  lag_feature(DF_mod,\"irradiance\",3,6,1)\n",
    "\n",
    "# Let's add the previous consumptions in the last 24 hours!\n",
    "DF_mod=  lag_feature(DF_mod,\"AC_consumption\",1,24,1)\n",
    "DF_mod.describe()"
   ]
  },
  {
   "cell_type": "markdown",
   "metadata": {},
   "source": [
    "Adding the seasonality parameters that depends on time and checking correlation on cos-time and sin-time graph to our consumption-time graph"
   ]
  },
  {
   "cell_type": "code",
   "execution_count": 21,
   "metadata": {
    "collapsed": true
   },
   "outputs": [],
   "source": [
    "DF_mod[\"hour\"]=DF_mod.index.hour\n",
    "DF_mod[\"sin_hour\"]=np.sin(DF_mod.index.hour*2*np.pi/24)\n",
    "DF_mod[\"cos_hour\"]=np.cos(DF_mod.index.hour*2*np.pi/24)\n",
    "\n",
    "DF_mod[\"day_of_week\"]=DF_mod.index.dayofweek\n",
    "DF_mod[\"month\"]=DF_mod.index.month\n",
    "DF_mod[\"week_of_year\"]=DF_mod.index.week"
   ]
  },
  {
   "cell_type": "markdown",
   "metadata": {},
   "source": [
    "Creating two functions for selecting the weekend data and hours of the day that means when occupants are not at home, giving them as result a boolean column to then choose only value of flag variable equal to 1 for creating the columns \"weekend\" and \"working time\""
   ]
  },
  {
   "cell_type": "code",
   "execution_count": 22,
   "metadata": {
    "collapsed": true
   },
   "outputs": [],
   "source": [
    "def WeekendDetector(day):\n",
    "    if (day==5 or day == 6):\n",
    "        weekendLabel=1\n",
    "    else:\n",
    "        weekendLabel=0\n",
    "    return weekendLabel\n",
    "\n",
    "DF_mod[\"weekend\"]= DF_mod[\"day_of_week\"].apply(WeekendDetector)\n",
    "    \n",
    "def DayDetector(hour):\n",
    "    if (hour< 19 and hour>=9):\n",
    "        DayLabel=1\n",
    "    else:\n",
    "        DayLabel=0\n",
    "    return DayLabel\n",
    "\n",
    "DF_mod[\"workingTime\"] = DF_mod[\"hour\"].apply(DayDetector)"
   ]
  },
  {
   "cell_type": "markdown",
   "metadata": {},
   "source": [
    "Evaluate how much is the correlation of the consumption wrt all our dataset "
   ]
  },
  {
   "cell_type": "code",
   "execution_count": 24,
   "metadata": {
    "collapsed": false
   },
   "outputs": [
    {
     "data": {
      "text/html": [
       "<div>\n",
       "<style>\n",
       "    .dataframe thead tr:only-child th {\n",
       "        text-align: right;\n",
       "    }\n",
       "\n",
       "    .dataframe thead th {\n",
       "        text-align: left;\n",
       "    }\n",
       "\n",
       "    .dataframe tbody tr th {\n",
       "        vertical-align: top;\n",
       "    }\n",
       "</style>\n",
       "<table border=\"1\" class=\"dataframe\">\n",
       "  <thead>\n",
       "    <tr style=\"text-align: right;\">\n",
       "      <th></th>\n",
       "      <th>air conditioner_5545</th>\n",
       "      <th>temperature</th>\n",
       "      <th>gen</th>\n",
       "      <th>temperature -1hr</th>\n",
       "      <th>temperature -2hr</th>\n",
       "      <th>temperature -3hr</th>\n",
       "      <th>temperature -4hr</th>\n",
       "      <th>temperature -5hr</th>\n",
       "      <th>temperature -6hr</th>\n",
       "      <th>hour</th>\n",
       "      <th>sin_hour</th>\n",
       "      <th>cos_hour</th>\n",
       "      <th>day_of_week</th>\n",
       "      <th>month</th>\n",
       "      <th>week_of_year</th>\n",
       "      <th>weekend</th>\n",
       "      <th>workingTime</th>\n",
       "    </tr>\n",
       "  </thead>\n",
       "  <tbody>\n",
       "    <tr>\n",
       "      <th>air conditioner_5545</th>\n",
       "      <td>1.000000</td>\n",
       "      <td>0.567759</td>\n",
       "      <td>-0.010406</td>\n",
       "      <td>0.605930</td>\n",
       "      <td>0.633037</td>\n",
       "      <td>0.645768</td>\n",
       "      <td>0.643592</td>\n",
       "      <td>0.626838</td>\n",
       "      <td>0.596597</td>\n",
       "      <td>0.352808</td>\n",
       "      <td>-0.428578</td>\n",
       "      <td>0.207456</td>\n",
       "      <td>-0.014653</td>\n",
       "      <td>0.153875</td>\n",
       "      <td>0.164818</td>\n",
       "      <td>-0.006510</td>\n",
       "      <td>-0.051613</td>\n",
       "    </tr>\n",
       "    <tr>\n",
       "      <th>temperature</th>\n",
       "      <td>0.567759</td>\n",
       "      <td>1.000000</td>\n",
       "      <td>0.316497</td>\n",
       "      <td>0.991125</td>\n",
       "      <td>0.968990</td>\n",
       "      <td>0.936761</td>\n",
       "      <td>0.897785</td>\n",
       "      <td>0.855209</td>\n",
       "      <td>0.811763</td>\n",
       "      <td>0.238509</td>\n",
       "      <td>-0.327360</td>\n",
       "      <td>-0.141078</td>\n",
       "      <td>0.044240</td>\n",
       "      <td>0.217522</td>\n",
       "      <td>0.246750</td>\n",
       "      <td>0.041159</td>\n",
       "      <td>0.241258</td>\n",
       "    </tr>\n",
       "    <tr>\n",
       "      <th>gen</th>\n",
       "      <td>-0.010406</td>\n",
       "      <td>0.316497</td>\n",
       "      <td>1.000000</td>\n",
       "      <td>0.228523</td>\n",
       "      <td>0.132847</td>\n",
       "      <td>0.038199</td>\n",
       "      <td>-0.047481</td>\n",
       "      <td>-0.117825</td>\n",
       "      <td>-0.168933</td>\n",
       "      <td>0.164066</td>\n",
       "      <td>-0.231320</td>\n",
       "      <td>-0.740196</td>\n",
       "      <td>-0.028739</td>\n",
       "      <td>-0.026050</td>\n",
       "      <td>-0.018714</td>\n",
       "      <td>-0.028940</td>\n",
       "      <td>0.763218</td>\n",
       "    </tr>\n",
       "    <tr>\n",
       "      <th>temperature -1hr</th>\n",
       "      <td>0.605930</td>\n",
       "      <td>0.991125</td>\n",
       "      <td>0.228523</td>\n",
       "      <td>1.000000</td>\n",
       "      <td>0.991122</td>\n",
       "      <td>0.968982</td>\n",
       "      <td>0.936747</td>\n",
       "      <td>0.897763</td>\n",
       "      <td>0.855177</td>\n",
       "      <td>0.257253</td>\n",
       "      <td>-0.352895</td>\n",
       "      <td>-0.051384</td>\n",
       "      <td>0.043123</td>\n",
       "      <td>0.218107</td>\n",
       "      <td>0.247408</td>\n",
       "      <td>0.041167</td>\n",
       "      <td>0.162689</td>\n",
       "    </tr>\n",
       "    <tr>\n",
       "      <th>temperature -2hr</th>\n",
       "      <td>0.633037</td>\n",
       "      <td>0.968990</td>\n",
       "      <td>0.132847</td>\n",
       "      <td>0.991122</td>\n",
       "      <td>1.000000</td>\n",
       "      <td>0.991117</td>\n",
       "      <td>0.968975</td>\n",
       "      <td>0.936734</td>\n",
       "      <td>0.897741</td>\n",
       "      <td>0.263853</td>\n",
       "      <td>-0.354314</td>\n",
       "      <td>0.041905</td>\n",
       "      <td>0.042129</td>\n",
       "      <td>0.218714</td>\n",
       "      <td>0.248056</td>\n",
       "      <td>0.041090</td>\n",
       "      <td>0.076035</td>\n",
       "    </tr>\n",
       "    <tr>\n",
       "      <th>temperature -3hr</th>\n",
       "      <td>0.645768</td>\n",
       "      <td>0.936761</td>\n",
       "      <td>0.038199</td>\n",
       "      <td>0.968982</td>\n",
       "      <td>0.991117</td>\n",
       "      <td>1.000000</td>\n",
       "      <td>0.991111</td>\n",
       "      <td>0.968966</td>\n",
       "      <td>0.936714</td>\n",
       "      <td>0.255223</td>\n",
       "      <td>-0.331571</td>\n",
       "      <td>0.132361</td>\n",
       "      <td>0.041470</td>\n",
       "      <td>0.219407</td>\n",
       "      <td>0.248755</td>\n",
       "      <td>0.041314</td>\n",
       "      <td>-0.011671</td>\n",
       "    </tr>\n",
       "    <tr>\n",
       "      <th>temperature -4hr</th>\n",
       "      <td>0.643592</td>\n",
       "      <td>0.897785</td>\n",
       "      <td>-0.047481</td>\n",
       "      <td>0.936747</td>\n",
       "      <td>0.968975</td>\n",
       "      <td>0.991111</td>\n",
       "      <td>1.000000</td>\n",
       "      <td>0.991109</td>\n",
       "      <td>0.968959</td>\n",
       "      <td>0.226658</td>\n",
       "      <td>-0.286189</td>\n",
       "      <td>0.213863</td>\n",
       "      <td>0.041044</td>\n",
       "      <td>0.220099</td>\n",
       "      <td>0.249425</td>\n",
       "      <td>0.041808</td>\n",
       "      <td>-0.094104</td>\n",
       "    </tr>\n",
       "    <tr>\n",
       "      <th>temperature -5hr</th>\n",
       "      <td>0.626838</td>\n",
       "      <td>0.855209</td>\n",
       "      <td>-0.117825</td>\n",
       "      <td>0.897763</td>\n",
       "      <td>0.936734</td>\n",
       "      <td>0.968966</td>\n",
       "      <td>0.991109</td>\n",
       "      <td>1.000000</td>\n",
       "      <td>0.991107</td>\n",
       "      <td>0.172909</td>\n",
       "      <td>-0.221290</td>\n",
       "      <td>0.280817</td>\n",
       "      <td>0.040807</td>\n",
       "      <td>0.220860</td>\n",
       "      <td>0.250077</td>\n",
       "      <td>0.042359</td>\n",
       "      <td>-0.167530</td>\n",
       "    </tr>\n",
       "    <tr>\n",
       "      <th>temperature -6hr</th>\n",
       "      <td>0.596597</td>\n",
       "      <td>0.811763</td>\n",
       "      <td>-0.168933</td>\n",
       "      <td>0.855177</td>\n",
       "      <td>0.897741</td>\n",
       "      <td>0.936714</td>\n",
       "      <td>0.968959</td>\n",
       "      <td>0.991107</td>\n",
       "      <td>1.000000</td>\n",
       "      <td>0.099995</td>\n",
       "      <td>-0.141289</td>\n",
       "      <td>0.328665</td>\n",
       "      <td>0.040653</td>\n",
       "      <td>0.221641</td>\n",
       "      <td>0.250693</td>\n",
       "      <td>0.042820</td>\n",
       "      <td>-0.228670</td>\n",
       "    </tr>\n",
       "    <tr>\n",
       "      <th>hour</th>\n",
       "      <td>0.352808</td>\n",
       "      <td>0.238509</td>\n",
       "      <td>0.164066</td>\n",
       "      <td>0.257253</td>\n",
       "      <td>0.263853</td>\n",
       "      <td>0.255223</td>\n",
       "      <td>0.226658</td>\n",
       "      <td>0.172909</td>\n",
       "      <td>0.099995</td>\n",
       "      <td>1.000000</td>\n",
       "      <td>-0.776311</td>\n",
       "      <td>-0.102506</td>\n",
       "      <td>0.000388</td>\n",
       "      <td>-0.000966</td>\n",
       "      <td>-0.000344</td>\n",
       "      <td>0.000151</td>\n",
       "      <td>0.245312</td>\n",
       "    </tr>\n",
       "    <tr>\n",
       "      <th>sin_hour</th>\n",
       "      <td>-0.428578</td>\n",
       "      <td>-0.327360</td>\n",
       "      <td>-0.231320</td>\n",
       "      <td>-0.352895</td>\n",
       "      <td>-0.354314</td>\n",
       "      <td>-0.331571</td>\n",
       "      <td>-0.286189</td>\n",
       "      <td>-0.221290</td>\n",
       "      <td>-0.141289</td>\n",
       "      <td>-0.776311</td>\n",
       "      <td>1.000000</td>\n",
       "      <td>0.000607</td>\n",
       "      <td>-0.000450</td>\n",
       "      <td>0.000476</td>\n",
       "      <td>0.000424</td>\n",
       "      <td>-0.000367</td>\n",
       "      <td>-0.339757</td>\n",
       "    </tr>\n",
       "    <tr>\n",
       "      <th>cos_hour</th>\n",
       "      <td>0.207456</td>\n",
       "      <td>-0.141078</td>\n",
       "      <td>-0.740196</td>\n",
       "      <td>-0.051384</td>\n",
       "      <td>0.041905</td>\n",
       "      <td>0.132361</td>\n",
       "      <td>0.213863</td>\n",
       "      <td>0.280817</td>\n",
       "      <td>0.328665</td>\n",
       "      <td>-0.102506</td>\n",
       "      <td>0.000607</td>\n",
       "      <td>1.000000</td>\n",
       "      <td>0.000375</td>\n",
       "      <td>0.000499</td>\n",
       "      <td>0.000109</td>\n",
       "      <td>0.000767</td>\n",
       "      <td>-0.816884</td>\n",
       "    </tr>\n",
       "    <tr>\n",
       "      <th>day_of_week</th>\n",
       "      <td>-0.014653</td>\n",
       "      <td>0.044240</td>\n",
       "      <td>-0.028739</td>\n",
       "      <td>0.043123</td>\n",
       "      <td>0.042129</td>\n",
       "      <td>0.041470</td>\n",
       "      <td>0.041044</td>\n",
       "      <td>0.040807</td>\n",
       "      <td>0.040653</td>\n",
       "      <td>0.000388</td>\n",
       "      <td>-0.000450</td>\n",
       "      <td>0.000375</td>\n",
       "      <td>1.000000</td>\n",
       "      <td>-0.011912</td>\n",
       "      <td>-0.006251</td>\n",
       "      <td>0.789061</td>\n",
       "      <td>-0.000340</td>\n",
       "    </tr>\n",
       "    <tr>\n",
       "      <th>month</th>\n",
       "      <td>0.153875</td>\n",
       "      <td>0.217522</td>\n",
       "      <td>-0.026050</td>\n",
       "      <td>0.218107</td>\n",
       "      <td>0.218714</td>\n",
       "      <td>0.219407</td>\n",
       "      <td>0.220099</td>\n",
       "      <td>0.220860</td>\n",
       "      <td>0.221641</td>\n",
       "      <td>-0.000966</td>\n",
       "      <td>0.000476</td>\n",
       "      <td>0.000499</td>\n",
       "      <td>-0.011912</td>\n",
       "      <td>1.000000</td>\n",
       "      <td>0.964964</td>\n",
       "      <td>-0.003034</td>\n",
       "      <td>-0.000328</td>\n",
       "    </tr>\n",
       "    <tr>\n",
       "      <th>week_of_year</th>\n",
       "      <td>0.164818</td>\n",
       "      <td>0.246750</td>\n",
       "      <td>-0.018714</td>\n",
       "      <td>0.247408</td>\n",
       "      <td>0.248056</td>\n",
       "      <td>0.248755</td>\n",
       "      <td>0.249425</td>\n",
       "      <td>0.250077</td>\n",
       "      <td>0.250693</td>\n",
       "      <td>-0.000344</td>\n",
       "      <td>0.000424</td>\n",
       "      <td>0.000109</td>\n",
       "      <td>-0.006251</td>\n",
       "      <td>0.964964</td>\n",
       "      <td>1.000000</td>\n",
       "      <td>-0.006424</td>\n",
       "      <td>-0.000095</td>\n",
       "    </tr>\n",
       "    <tr>\n",
       "      <th>weekend</th>\n",
       "      <td>-0.006510</td>\n",
       "      <td>0.041159</td>\n",
       "      <td>-0.028940</td>\n",
       "      <td>0.041167</td>\n",
       "      <td>0.041090</td>\n",
       "      <td>0.041314</td>\n",
       "      <td>0.041808</td>\n",
       "      <td>0.042359</td>\n",
       "      <td>0.042820</td>\n",
       "      <td>0.000151</td>\n",
       "      <td>-0.000367</td>\n",
       "      <td>0.000767</td>\n",
       "      <td>0.789061</td>\n",
       "      <td>-0.003034</td>\n",
       "      <td>-0.006424</td>\n",
       "      <td>1.000000</td>\n",
       "      <td>-0.000711</td>\n",
       "    </tr>\n",
       "    <tr>\n",
       "      <th>workingTime</th>\n",
       "      <td>-0.051613</td>\n",
       "      <td>0.241258</td>\n",
       "      <td>0.763218</td>\n",
       "      <td>0.162689</td>\n",
       "      <td>0.076035</td>\n",
       "      <td>-0.011671</td>\n",
       "      <td>-0.094104</td>\n",
       "      <td>-0.167530</td>\n",
       "      <td>-0.228670</td>\n",
       "      <td>0.245312</td>\n",
       "      <td>-0.339757</td>\n",
       "      <td>-0.816884</td>\n",
       "      <td>-0.000340</td>\n",
       "      <td>-0.000328</td>\n",
       "      <td>-0.000095</td>\n",
       "      <td>-0.000711</td>\n",
       "      <td>1.000000</td>\n",
       "    </tr>\n",
       "  </tbody>\n",
       "</table>\n",
       "</div>"
      ],
      "text/plain": [
       "                      air conditioner_5545  temperature       gen  \\\n",
       "air conditioner_5545              1.000000     0.567759 -0.010406   \n",
       "temperature                       0.567759     1.000000  0.316497   \n",
       "gen                              -0.010406     0.316497  1.000000   \n",
       "temperature -1hr                  0.605930     0.991125  0.228523   \n",
       "temperature -2hr                  0.633037     0.968990  0.132847   \n",
       "temperature -3hr                  0.645768     0.936761  0.038199   \n",
       "temperature -4hr                  0.643592     0.897785 -0.047481   \n",
       "temperature -5hr                  0.626838     0.855209 -0.117825   \n",
       "temperature -6hr                  0.596597     0.811763 -0.168933   \n",
       "hour                              0.352808     0.238509  0.164066   \n",
       "sin_hour                         -0.428578    -0.327360 -0.231320   \n",
       "cos_hour                          0.207456    -0.141078 -0.740196   \n",
       "day_of_week                      -0.014653     0.044240 -0.028739   \n",
       "month                             0.153875     0.217522 -0.026050   \n",
       "week_of_year                      0.164818     0.246750 -0.018714   \n",
       "weekend                          -0.006510     0.041159 -0.028940   \n",
       "workingTime                      -0.051613     0.241258  0.763218   \n",
       "\n",
       "                      temperature -1hr  temperature -2hr  temperature -3hr  \\\n",
       "air conditioner_5545          0.605930          0.633037          0.645768   \n",
       "temperature                   0.991125          0.968990          0.936761   \n",
       "gen                           0.228523          0.132847          0.038199   \n",
       "temperature -1hr              1.000000          0.991122          0.968982   \n",
       "temperature -2hr              0.991122          1.000000          0.991117   \n",
       "temperature -3hr              0.968982          0.991117          1.000000   \n",
       "temperature -4hr              0.936747          0.968975          0.991111   \n",
       "temperature -5hr              0.897763          0.936734          0.968966   \n",
       "temperature -6hr              0.855177          0.897741          0.936714   \n",
       "hour                          0.257253          0.263853          0.255223   \n",
       "sin_hour                     -0.352895         -0.354314         -0.331571   \n",
       "cos_hour                     -0.051384          0.041905          0.132361   \n",
       "day_of_week                   0.043123          0.042129          0.041470   \n",
       "month                         0.218107          0.218714          0.219407   \n",
       "week_of_year                  0.247408          0.248056          0.248755   \n",
       "weekend                       0.041167          0.041090          0.041314   \n",
       "workingTime                   0.162689          0.076035         -0.011671   \n",
       "\n",
       "                      temperature -4hr  temperature -5hr  temperature -6hr  \\\n",
       "air conditioner_5545          0.643592          0.626838          0.596597   \n",
       "temperature                   0.897785          0.855209          0.811763   \n",
       "gen                          -0.047481         -0.117825         -0.168933   \n",
       "temperature -1hr              0.936747          0.897763          0.855177   \n",
       "temperature -2hr              0.968975          0.936734          0.897741   \n",
       "temperature -3hr              0.991111          0.968966          0.936714   \n",
       "temperature -4hr              1.000000          0.991109          0.968959   \n",
       "temperature -5hr              0.991109          1.000000          0.991107   \n",
       "temperature -6hr              0.968959          0.991107          1.000000   \n",
       "hour                          0.226658          0.172909          0.099995   \n",
       "sin_hour                     -0.286189         -0.221290         -0.141289   \n",
       "cos_hour                      0.213863          0.280817          0.328665   \n",
       "day_of_week                   0.041044          0.040807          0.040653   \n",
       "month                         0.220099          0.220860          0.221641   \n",
       "week_of_year                  0.249425          0.250077          0.250693   \n",
       "weekend                       0.041808          0.042359          0.042820   \n",
       "workingTime                  -0.094104         -0.167530         -0.228670   \n",
       "\n",
       "                          hour  sin_hour  cos_hour  day_of_week     month  \\\n",
       "air conditioner_5545  0.352808 -0.428578  0.207456    -0.014653  0.153875   \n",
       "temperature           0.238509 -0.327360 -0.141078     0.044240  0.217522   \n",
       "gen                   0.164066 -0.231320 -0.740196    -0.028739 -0.026050   \n",
       "temperature -1hr      0.257253 -0.352895 -0.051384     0.043123  0.218107   \n",
       "temperature -2hr      0.263853 -0.354314  0.041905     0.042129  0.218714   \n",
       "temperature -3hr      0.255223 -0.331571  0.132361     0.041470  0.219407   \n",
       "temperature -4hr      0.226658 -0.286189  0.213863     0.041044  0.220099   \n",
       "temperature -5hr      0.172909 -0.221290  0.280817     0.040807  0.220860   \n",
       "temperature -6hr      0.099995 -0.141289  0.328665     0.040653  0.221641   \n",
       "hour                  1.000000 -0.776311 -0.102506     0.000388 -0.000966   \n",
       "sin_hour             -0.776311  1.000000  0.000607    -0.000450  0.000476   \n",
       "cos_hour             -0.102506  0.000607  1.000000     0.000375  0.000499   \n",
       "day_of_week           0.000388 -0.000450  0.000375     1.000000 -0.011912   \n",
       "month                -0.000966  0.000476  0.000499    -0.011912  1.000000   \n",
       "week_of_year         -0.000344  0.000424  0.000109    -0.006251  0.964964   \n",
       "weekend               0.000151 -0.000367  0.000767     0.789061 -0.003034   \n",
       "workingTime           0.245312 -0.339757 -0.816884    -0.000340 -0.000328   \n",
       "\n",
       "                      week_of_year   weekend  workingTime  \n",
       "air conditioner_5545      0.164818 -0.006510    -0.051613  \n",
       "temperature               0.246750  0.041159     0.241258  \n",
       "gen                      -0.018714 -0.028940     0.763218  \n",
       "temperature -1hr          0.247408  0.041167     0.162689  \n",
       "temperature -2hr          0.248056  0.041090     0.076035  \n",
       "temperature -3hr          0.248755  0.041314    -0.011671  \n",
       "temperature -4hr          0.249425  0.041808    -0.094104  \n",
       "temperature -5hr          0.250077  0.042359    -0.167530  \n",
       "temperature -6hr          0.250693  0.042820    -0.228670  \n",
       "hour                     -0.000344  0.000151     0.245312  \n",
       "sin_hour                  0.000424 -0.000367    -0.339757  \n",
       "cos_hour                  0.000109  0.000767    -0.816884  \n",
       "day_of_week              -0.006251  0.789061    -0.000340  \n",
       "month                     0.964964 -0.003034    -0.000328  \n",
       "week_of_year              1.000000 -0.006424    -0.000095  \n",
       "weekend                  -0.006424  1.000000    -0.000711  \n",
       "workingTime              -0.000095 -0.000711     1.000000  "
      ]
     },
     "execution_count": 24,
     "metadata": {},
     "output_type": "execute_result"
    }
   ],
   "source": [
    "DF_mod.corr()"
   ]
  },
  {
   "cell_type": "markdown",
   "metadata": {},
   "source": [
    "Values near to 1 means high correlation wrt our consumption, principally the main correlations are: temperatures, hour and sin-hour"
   ]
  },
  {
   "cell_type": "code",
   "execution_count": null,
   "metadata": {
    "collapsed": true
   },
   "outputs": [],
   "source": []
  }
 ],
 "metadata": {
  "kernelspec": {
   "display_name": "Python 2",
   "language": "python",
   "name": "python2"
  },
  "language_info": {
   "codemirror_mode": {
    "name": "ipython",
    "version": 2
   },
   "file_extension": ".py",
   "mimetype": "text/x-python",
   "name": "python",
   "nbconvert_exporter": "python",
   "pygments_lexer": "ipython2",
   "version": "2.7.13"
  }
 },
 "nbformat": 4,
 "nbformat_minor": 2
}
