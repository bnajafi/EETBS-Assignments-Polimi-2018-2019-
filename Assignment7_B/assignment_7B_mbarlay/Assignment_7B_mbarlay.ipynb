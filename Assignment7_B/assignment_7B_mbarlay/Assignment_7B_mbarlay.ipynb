{
 "cells": [
  {
   "cell_type": "markdown",
   "metadata": {},
   "source": [
    "# Assignment 7B"
   ]
  },
  {
   "cell_type": "code",
   "execution_count": null,
   "metadata": {
    "collapsed": true
   },
   "outputs": [],
   "source": [
    "import numpy as np\n",
    "import pandas as pd\n",
    "import matplotlib.pyplot as plt\n",
    "import os"
   ]
  },
  {
   "cell_type": "code",
   "execution_count": null,
   "metadata": {
    "collapsed": true
   },
   "outputs": [],
   "source": [
    "externalFiesFolder= r\"C:\\Users\\My\\Desktop\\Laurea Magistrale\\1st sem\\ENERGY AND ENVIRONMENTAL TECHNOLOGIES FOR BUILDING SYSTEMS\\files cloned\\22.11.18-cloning\\python4ScientificComputing_Numpy_Pandas_MATPLotLIB\\ExternalFiles\"\n",
    "ConsumptinFileName=\"consumption_5545.csv\"\n",
    "IrradianceFileName=\"irradiance_2014_gen.csv\"\n",
    "TemperatureFileName=\"Austin_weather_2014.csv\""
   ]
  },
  {
   "cell_type": "code",
   "execution_count": null,
   "metadata": {
    "collapsed": true
   },
   "outputs": [],
   "source": [
    "path_consumptionFile=os.path.join(externalFiesFolder,ConsumptinFileName)\n",
    "path_irradianceFile=os.path.join(externalFiesFolder,IrradianceFileName)\n",
    "path_temperatureFile=os.path.join(externalFiesFolder,TemperatureFileName)"
   ]
  },
  {
   "cell_type": "code",
   "execution_count": null,
   "metadata": {
    "collapsed": true
   },
   "outputs": [],
   "source": [
    "DF_Consumption=pd.read_csv(path_consumptionFile, sep=\",\",index_col=0)\n",
    "DF_Consumption.head()\n",
    "PreviousIndex = DF_Consumption.index\n",
    "NewParsedIndex= pd.to_datetime(PreviousIndex)\n",
    "DF_Consumption.index= NewParsedIndex\n",
    "DF_Consumption_InJuly=DF_Consumption[\"2014-05-15 00:00:00\":\"2014-05-30 23:00:00\"]\n",
    "plt.figure()\n",
    "plt.plot(DF_Consumption_InJuly)\n",
    "plt.ylabel(\"W\")\n",
    "plt.show()"
   ]
  },
  {
   "cell_type": "code",
   "execution_count": null,
   "metadata": {
    "collapsed": true
   },
   "outputs": [],
   "source": [
    "DF_weather = pd.read_csv(path_temperatureFile, sep=\";\",index_col=0)\n",
    "DF_weather.head(24)\n",
    "PreviousIndex_weather=DF_weather.index\n",
    "newIndex_weather=pd.to_datetime(PreviousIndex_weather)\n",
    "DF_weather.index=newIndex_weather\n",
    "Series_Temperature=DF_weather[\"temperature\"]\n",
    "DF_Temperature=DF_weather[[\"temperature\"]]\n",
    "\n",
    "\n",
    "DF_Temperature_InMay=DF_Temperature[\"2014-05-15 00:00:00\":\"2014-05-30 23:00:00\"]\n",
    "plt.figure()\n",
    "plt.plot(DF_Temperature_InMay)\n",
    "plt.xlabel(\"time\")\n",
    "plt.ylabel(\"temperature\")\n",
    "plt.show()\n"
   ]
  },
  {
   "cell_type": "code",
   "execution_count": null,
   "metadata": {
    "collapsed": true
   },
   "outputs": [],
   "source": [
    "DF_irradianceSource=pd.read_csv(path_irradianceFile, sep=\";\",index_col=1)\n",
    "DF_irradiance=DF_irradianceSource[[\"gen\"]]\n",
    "DF_irradiance[\"gen\"]<0\n",
    "DF_irradiance[DF_irradiance[\"gen\"]<0]=0\n",
    "\n",
    "DF_irradiance_InMay=DF_irradiance[\"2014-05-15 00:00:00\":\"2014-05-30 00:00:00\"]\n",
    "plt.figure()\n",
    "DF_irradiance_InMay.plot()\n",
    "plt.xlabel(\"time\")\n",
    "plt.ylabel(\"W\")\n",
    "plt.show()"
   ]
  },
  {
   "cell_type": "markdown",
   "metadata": {},
   "source": [
    "#for two graphs in one graph: insert their normalizations\n"
   ]
  },
  {
   "cell_type": "code",
   "execution_count": null,
   "metadata": {
    "collapsed": true
   },
   "outputs": [],
   "source": [
    "temp_min=DF_Temperature_InMay[\"temperature\"].min()\n",
    "temp_max=DF_Temperature_InMay[\"temperature\"].max()\n",
    "\n",
    "DF_Temperature_InMay[\"temperature\"]=(DF_Temperature_InMay[\"temperature\"]-temp_min)/(temp_max-temp_min)\n",
    "DF_Temperature_InMay.columns=pd.Series(\"Temperature_Normalized\")\n",
    "\n",
    "irr_min=DF_irradiance_InMay[\"gen\"].min()\n",
    "irr_max=DF_irradiance_InMay[\"gen\"].max()\n",
    "\n",
    "DF_irradiance_InMay[\"gen\"]=(DF_irradiance_InMay[\"gen\"]-irr_min)/(irr_max-irr_min)\n",
    "DF_irradiance_InMay.columns=pd.Series(\"Irradiance_Normalized\")"
   ]
  },
  {
   "cell_type": "markdown",
   "metadata": {},
   "source": [
    "#for the joined graph:"
   ]
  },
  {
   "cell_type": "code",
   "execution_count": null,
   "metadata": {
    "collapsed": true
   },
   "outputs": [],
   "source": [
    "DF_joined = DF_Consumption.join([DF_Temperature,DF_irradiance])\n",
    "DF_joined[\"temperature_normalized\"]=(DF_joined[\"temperature\"]-temp_min)/(temp_max-temp_min)\n",
    "DF_joined.head(24)"
   ]
  },
  {
   "cell_type": "code",
   "execution_count": null,
   "metadata": {
    "collapsed": true
   },
   "outputs": [],
   "source": [
    "#plot.figure()\n",
    "DF_joined.plot()\n",
    "plt.xlabel(\"time\")\n",
    "plt.ylabel(\"Normalized\")\n",
    "plt.show()"
   ]
  }
 ],
 "metadata": {
  "kernelspec": {
   "display_name": "Python 2",
   "language": "python",
   "name": "python2"
  },
  "language_info": {
   "codemirror_mode": {
    "name": "ipython",
    "version": 2
   },
   "file_extension": ".py",
   "mimetype": "text/x-python",
   "name": "python",
   "nbconvert_exporter": "python",
   "pygments_lexer": "ipython2",
   "version": "2.7.13"
  }
 },
 "nbformat": 4,
 "nbformat_minor": 2
}
