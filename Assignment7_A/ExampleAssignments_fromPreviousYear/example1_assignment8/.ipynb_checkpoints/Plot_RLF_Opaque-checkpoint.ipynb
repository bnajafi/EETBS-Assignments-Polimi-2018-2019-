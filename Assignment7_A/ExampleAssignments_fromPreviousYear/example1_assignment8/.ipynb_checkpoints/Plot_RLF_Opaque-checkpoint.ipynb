{
 "cells": [
  {
   "cell_type": "markdown",
   "metadata": {},
   "source": [
    "## Results of RLF method\n"
   ]
  },
  {
   "cell_type": "markdown",
   "metadata": {},
   "source": [
    "### Opaque Surface"
   ]
  },
  {
   "cell_type": "markdown",
   "metadata": {},
   "source": [
    "Here I would like to present the procedure and results of my script that calculates the load of opaque surfaces using **RLF** *method*, you can find the details in [Polimi](www.polimi.it)"
   ]
  },
  {
   "cell_type": "markdown",
   "metadata": {},
   "source": [
    "Now that I have calculated the loads, let me show them to you through a bar chart"
   ]
  },
  {
   "cell_type": "code",
   "execution_count": null,
   "metadata": {
    "collapsed": false
   },
   "outputs": [],
   "source": [
    "\n",
    "import numpy as np\n",
    "import matplotlib.pyplot as plt\n",
    "import pandas as pd\n",
    "%matplotlib notebook\n",
    "\n",
    "items1=[1,3,5]\n",
    "items2=[2,4,6]\n",
    "labels=[\"wall\",\"floor\",\"door\"]\n",
    "heatingLoad=[2581,3500,300]\n",
    "coolingLoad=[2300,3400,250]\n",
    "fig1=plt.figure()\n",
    "plt.bar(items1,heatingLoad,label=\"heatingLoad\",color=\"red\")\n",
    "plt.bar(items2,heatingLoad,label=\"coolingLoad\")\n",
    "plt.legend()\n",
    "plt.xticks(items1,labels)\n",
    "\n",
    "\n"
   ]
  },
  {
   "cell_type": "code",
   "execution_count": null,
   "metadata": {
    "collapsed": true
   },
   "outputs": [],
   "source": []
  },
  {
   "cell_type": "code",
   "execution_count": null,
   "metadata": {
    "collapsed": true
   },
   "outputs": [],
   "source": []
  }
 ],
 "metadata": {
  "kernelspec": {
   "display_name": "Python 2",
   "language": "python",
   "name": "python2"
  },
  "language_info": {
   "codemirror_mode": {
    "name": "ipython",
    "version": 2
   },
   "file_extension": ".py",
   "mimetype": "text/x-python",
   "name": "python",
   "nbconvert_exporter": "python",
   "pygments_lexer": "ipython2",
   "version": "2.7.13"
  }
 },
 "nbformat": 4,
 "nbformat_minor": 2
}
