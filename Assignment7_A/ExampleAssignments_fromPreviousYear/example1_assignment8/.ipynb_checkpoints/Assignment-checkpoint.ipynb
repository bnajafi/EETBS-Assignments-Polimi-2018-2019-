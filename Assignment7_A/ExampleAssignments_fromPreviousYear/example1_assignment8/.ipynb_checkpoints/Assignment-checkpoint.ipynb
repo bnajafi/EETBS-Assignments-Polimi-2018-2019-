{
 "cells": [
  {
   "cell_type": "markdown",
   "metadata": {},
   "source": [
    "# Assignment "
   ]
  },
  {
   "cell_type": "code",
   "execution_count": 1,
   "metadata": {
    "collapsed": false
   },
   "outputs": [
    {
     "name": "stdout",
     "output_type": "stream",
     "text": [
      "C:\\Users\\Alessia\\AppData\\Local\\Enthought\\Canopy\\edm\\envs\\User\\lib\\site-packages\\ipykernel\n"
     ]
    },
    {
     "ename": "ImportError",
     "evalue": "No module named fenestration_functions",
     "output_type": "error",
     "traceback": [
      "\u001b[1;31m---------------------------------------------------------------------------\u001b[0m",
      "\u001b[1;31mImportError\u001b[0m                               Traceback (most recent call last)",
      "\u001b[1;32m<ipython-input-1-9503ac10c858>\u001b[0m in \u001b[0;36m<module>\u001b[1;34m()\u001b[0m\n\u001b[0;32m     11\u001b[0m \u001b[1;33m\u001b[0m\u001b[0m\n\u001b[0;32m     12\u001b[0m \u001b[1;31m#importing all the functions to calculate heat loads via fenestrations, internalgains ,psychrometric data, opaque parts and latent loads\u001b[0m\u001b[1;33m\u001b[0m\u001b[1;33m\u001b[0m\u001b[0m\n\u001b[1;32m---> 13\u001b[1;33m \u001b[1;32mimport\u001b[0m \u001b[0mfenestration_functions\u001b[0m \u001b[1;32mas\u001b[0m \u001b[0mfunc\u001b[0m\u001b[1;33m\u001b[0m\u001b[0m\n\u001b[0m\u001b[0;32m     14\u001b[0m \u001b[1;32mimport\u001b[0m \u001b[0mIntGains_Inf_Vent_DistrLosses\u001b[0m \u001b[1;32mas\u001b[0m \u001b[0miv\u001b[0m\u001b[1;33m\u001b[0m\u001b[0m\n\u001b[0;32m     15\u001b[0m \u001b[1;32mimport\u001b[0m \u001b[0mFunctionsOpaque\u001b[0m \u001b[1;32mas\u001b[0m \u001b[0mfuncOp\u001b[0m\u001b[1;33m\u001b[0m\u001b[0m\n",
      "\u001b[1;31mImportError\u001b[0m: No module named fenestration_functions"
     ]
    }
   ],
   "source": [
    "import sys\n",
    "import os\n",
    "ThisFileDirectory=os.path.dirname(sys.argv[0])\n",
    "os.chdir(ThisFileDirectory)\n",
    "print os.getcwd()  #printing the working directory\n",
    "\n",
    "import numpy as np\n",
    "import pandas as pd\n",
    "import matplotlib.pyplot as plt\n",
    "import scipy as sp\n",
    "\n",
    "#importing all the functions to calculate heat loads via fenestrations, internalgains ,psychrometric data, opaque parts and latent loads\n",
    "import fenestration_functions as func\n",
    "import IntGains_Inf_Vent_DistrLosses as iv\n",
    "import FunctionsOpaque as funcOp\n",
    "import psySI as SI\n",
    "import latent_functions as lat\n",
    "\n",
    "#Weather Inputs of Piacenza:\n",
    "\n",
    "inputs_DF = pd.read_csv(\"input_weather_Piacenza.csv\",sep=\";\",index_col=0)\n",
    "inputs_list = func.weather_data_calculator(inputs_DF)\n",
    "\n",
    "    \n",
    "def solverr(wallwinter,wallsummer,Windows):\n",
    "    # Opaque surfaces Calculation:\n",
    "    numericalDataDF = pd.read_csv(\"input_numerical_data.csv\",sep=\";\",index_col= 0)   #numerical\n",
    "    dataDF = pd.read_csv(\"input_data.csv\",sep=\";\",index_col= 0)     #string\n",
    "    materials_DataFrame = pd.read_csv(\"resistences_materials.csv\",sep=\";\",index_col= 1)   #materials and resistances\n",
    "    inputWalls_DataFrame_winter = pd.read_csv(wallwinter,sep=\";\",index_col= 0)# reading the wallwinter data\n",
    "    inputWalls_DataFrame_summer = pd.read_csv(wallsummer,sep=\";\",index_col= 0)# reading the wallsummer data\n",
    "    inputDoor_DataFrame_winter = pd.read_csv(\"input_data_door_winter.csv\",sep=\";\",index_col= 0)# reading the doorwinter data\n",
    "    inputDoor_DataFrame_summer = pd.read_csv(\"input_data_door_summer.csv\",sep=\";\",index_col= 0)# reading the doorsummer data\n",
    "    #calling functions to calculate wall and door loads\n",
    "    U_wall_winter = funcOp.Utot_wall_Calculator(inputWalls_DataFrame_winter,materials_DataFrame)  \n",
    "    U_wall_summer = funcOp.Utot_wall_Calculator(inputWalls_DataFrame_summer,materials_DataFrame)  \n",
    "    U_door_winter = funcOp.Utot_door_Calculator(inputDoor_DataFrame_winter,materials_DataFrame)  \n",
    "    U_door_summer = funcOp.Utot_door_Calculator(inputDoor_DataFrame_summer,materials_DataFrame)  \n",
    "    \n",
    "    #printing the Heating and Cooling loads of the opaque elements of the building\n",
    "    print \"\\nThis is the value of Uwall_winter: \" + str(U_wall_winter) + \"  W/(m^2 * K)\"\n",
    "    print \"This is the value of Udoor_winter: \" + str(U_door_winter)+ \"  W/(m^2 * K)\"\n",
    "    print \"This is the value of Uceiling: \" + str(numericalDataDF[\"value\"][\"U_ceiling\"]) + \"  W/(m^2 * K)\"\n",
    "    QtotOpaque_winter = funcOp.QtotOpaque_winter_calculator(numericalDataDF[\"value\"][\"height_windows\"],numericalDataDF[\"value\"][\"width_windowsS\"],numericalDataDF[\"value\"][\"width_windowsE\"],numericalDataDF[\"value\"][\"width_windowsW\"],U_wall_winter,numericalDataDF[\"value\"][\"U_ceiling\"],U_door_winter,inputs_list[\"deltaTheating\"])\n",
    "    print \"\\tThis is the opaque heating load: \" + str(QtotOpaque_winter) + \" W\\n\"\n",
    "    \n",
    "    print \"\\nThis is the value of Uwall_summer: \" + str(U_wall_summer) + \"  W/(m^2 * K)\"\n",
    "    print \"This is the value of Udoor_summer: \" + str(U_door_summer) + \"  W/(m^2 * K)\"\n",
    "    print \"This is the value of Uceiling: \" + str(numericalDataDF[\"value\"][\"U_ceiling\"]) + \"  W/(m^2 * K)\"\n",
    "    QtotOpaque_summer = funcOp.QtotOpaque_summer_calculator(numericalDataDF[\"value\"][\"height_windows\"],numericalDataDF[\"value\"][\"width_windowsS\"],numericalDataDF[\"value\"][\"width_windowsE\"],numericalDataDF[\"value\"][\"width_windowsW\"],U_wall_summer,numericalDataDF[\"value\"][\"U_ceiling\"],U_door_summer,dataDF[\"characteristic\"][\"colour_roof\"],dataDF[\"characteristic\"][\"material_roof\"],inputs_list[\"deltaTcooling\"],inputs_list[\"DRcooling\"],dataDF[\"characteristic\"][\"walls_surface_type\"],dataDF[\"characteristic\"][\"ceiling_surface_type\"],dataDF[\"characteristic\"][\"doors_surface_type\"])\n",
    "    print \"\\tThis is the opaque cooling load: \" + str(QtotOpaque_summer) + \" W\\n\"\n",
    "    \n",
    "    \n",
    "    #Fenestration surfaces Calculation:\n",
    "    windows_DF = pd.read_csv(Windows,sep=\";\",index_col=0) #reading fenestration data file\n",
    "    windows_DF[\"Area\"] = windows_DF[\"Height\"]*windows_DF[\"Width\"] #calculating areas of all the windows\n",
    "    \n",
    "    Qfen_heating_load = func.Qfen_heating_calculator(windows_DF,inputs_list)#calling function to calculate fenestration heating load\n",
    "    print 'The total amount of the heating load for the windows is '+str(Qfen_heating_load)+' W.'\n",
    "    Qfen_cooling_load = func.Qfen_cooling_calculator(windows_DF,inputs_list)#calling function to calculate fenestration cooling load\n",
    "    print 'The total amount of the cooling load for the windows is '+str(Qfen_cooling_load)+' W.'\n",
    "    \n",
    "    \n",
    "    #Infiltration, Ventilation and Distribution losses Calculation:\n",
    "    input_data_inf_vent = pd.read_csv(\"input_inf_vent.csv\",sep = \";\",index_col=0) #importing infiltration and ventilation data\n",
    "    Output_Inf_Vent = iv.inf_vent_load_calc(input_data_inf_vent)\n",
    "    \n",
    "    input_data_distribution = pd.read_csv(\"input_distribution.csv\",sep = \";\",index_col=0)  #input data for read the distribution table\n",
    "    Losses = iv.Q_distri_Losses(input_data_distribution,Qfen_heating_load,Qfen_cooling_load,QtotOpaque_winter,QtotOpaque_summer,Output_Inf_Vent.iloc[7][0],Output_Inf_Vent.iloc[6][0],Output_Inf_Vent.iloc[8][0])\n",
    "    \n",
    "    #Latent results\n",
    "    QtotLatent = lat.Qtot_latent (input_data_inf_vent, inputs_list)\n",
    "    \n",
    "    #Final Results\n",
    "    results_DF = pd.read_csv(\"results_empty.csv\",sep=\";\",index_col=0)     #put all the results in a data frame\n",
    "    results_DF[\"Heating\"] = [QtotOpaque_winter,Qfen_heating_load,0,0,Output_Inf_Vent.iloc[7][0],Losses.iloc[0][0],0,0]\n",
    "    #calculated values of the loads are arranged in dataframes\n",
    "    results_DF[\"Cooling\"] = [QtotOpaque_summer,Qfen_cooling_load,0,Output_Inf_Vent.iloc[8][0],Output_Inf_Vent.iloc[6][0],Losses.iloc[1][0],0,QtotLatent]\n",
    "    for column in results_DF.columns.tolist():\n",
    "        sensible_loads = pd.Series(results_DF[column][0:6])     #6 not included\n",
    "        results_DF[column][\"Q_sensible_tot\"] = sensible_loads.sum() #sum of all sensible and put it in the table\n",
    "   \n",
    "    #results_DF.to_csv(\"results_wholeRFL.csv\",sep =\";\")\n",
    "    \n",
    "    \n",
    "    \n",
    "    \n",
    "    print \"\\nThis is the value of sensible internal gain: \"+str(Output_Inf_Vent[\"Results\"][\"Internal Gain, sensible [W]\"])+\" W.\"\n",
    "    print \"This is the value of sensible infiltration-ventilation Cooling load: \"+str(Output_Inf_Vent[\"Results\"][\"Sensible Infiltration/Ventilation Cooling Load [W]\"])+\" W.\"\n",
    "    print \"This is the value of sensible infiltration-ventilation Heating load: \"+str(Output_Inf_Vent[\"Results\"][\"Sensible Infiltration/Ventilation Heating Load [W]\"])+\" W.\\n\"    \n",
    "    print \"This is the value of Heating distribution losses: \"+str(Losses[\"Results\"][\"Heating distribution losses\"])+\" W.\"\n",
    "    print \"This is the value of Cooling distribution losses: \"+str(Losses[\"Results\"][\"Cooling distribution losses\"])+\" W.\\n\" \n",
    "    print \"\\t\\t\\t So the total Sensible Heating Load is :\"+str(results_DF[\"Heating\"][\"Q_sensible_tot\"])+\" W.\"      \n",
    "    print \"\\t\\t\\t So the total Sensible Cooling Load is :\"+str(results_DF[\"Cooling\"][\"Q_sensible_tot\"])+\" W.\\n\"      \n",
    "    print \"Here is given a table with all the results:\\n\"\n",
    "    print results_DF\n",
    "    return results_DF\n",
    "\n",
    "#function to form a piechart for all different variations of wall and fens data (parametric analysis)\n",
    "def piecharts(parameter1,parameter2,parameter3):\n",
    "    labels=['opaque','windows','below','internalgain','infilventilation','distloss']\n",
    "    cols=[\"b\",\"maroon\",\"goldenrod\",\"g\",\"r\",\"slateblue\"]\n",
    "    x=parameter1[parameter2]\n",
    "    y=x[0:6]\n",
    "    plt.figure()\n",
    "    plt.pie(y,labels=labels,colors=cols,startangle=90,explode=(0.1,0.1,0.1,0.1,0.1,0.1), autopct='%1.1f%%')\n",
    "    plt.title(str(parameter2)+\" load of \"+ parameter3)\n",
    "    plt.show()\n",
    "\n",
    "#function to form a bar chart to compare the loads of the base case with that of the parametric variations    \n",
    "def barcharts(parameter1,parameter2,parameter3,parameter4,modifier1,modifier2):\n",
    "    items = [1,2,3]\n",
    "    types = [\"Base\",modifier1,modifier2]\n",
    "    plt.figure()\n",
    "    plt.bar(items,[A[parameter1][parameter2],parameter3[parameter1][parameter2],parameter4[parameter1][parameter2]],color=[\"goldenrod\",\"fuchsia\",\"cyan\"])\n",
    "    plt.xticks(items,types,color=\"k\")\n",
    "    plt.title(\"Variation of \"+parameter1+parameter2+\" because of \"+ modifier1+\"  \"+modifier2)\n",
    "    plt.show()\n",
    "    "
   ]
  },
  {
   "cell_type": "code",
   "execution_count": null,
   "metadata": {
    "collapsed": true
   },
   "outputs": [],
   "source": []
  }
 ],
 "metadata": {
  "kernelspec": {
   "display_name": "Python 2",
   "language": "python",
   "name": "python2"
  },
  "language_info": {
   "codemirror_mode": {
    "name": "ipython",
    "version": 2
   },
   "file_extension": ".py",
   "mimetype": "text/x-python",
   "name": "python",
   "nbconvert_exporter": "python",
   "pygments_lexer": "ipython2",
   "version": "2.7.13"
  }
 },
 "nbformat": 4,
 "nbformat_minor": 2
}
