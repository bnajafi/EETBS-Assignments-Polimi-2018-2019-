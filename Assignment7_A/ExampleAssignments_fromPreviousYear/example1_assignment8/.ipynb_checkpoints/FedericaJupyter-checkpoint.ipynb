{
 "cells": [
  {
   "cell_type": "markdown",
   "metadata": {},
   "source": [
    "# Assignement"
   ]
  },
  {
   "cell_type": "code",
   "execution_count": 46,
   "metadata": {
    "collapsed": false
   },
   "outputs": [
    {
     "name": "stdout",
     "output_type": "stream",
     "text": [
      "/Users/federicarossetti/Library/Enthought/Canopy/edm/envs/User/lib/python2.7/site-packages/ipykernel\n"
     ]
    },
    {
     "ename": "ImportError",
     "evalue": "No module named fenestration_functions",
     "output_type": "error",
     "traceback": [
      "\u001b[0;31m---------------------------------------------------------------------------\u001b[0m",
      "\u001b[0;31mImportError\u001b[0m                               Traceback (most recent call last)",
      "\u001b[0;32m<ipython-input-46-71d2f7666b78>\u001b[0m in \u001b[0;36m<module>\u001b[0;34m()\u001b[0m\n\u001b[1;32m     11\u001b[0m \u001b[0;34m\u001b[0m\u001b[0m\n\u001b[1;32m     12\u001b[0m \u001b[0;31m#importing all the functions to calculate heat loads via fenestrations, internalgains ,psychrometric data, opaque parts and latent loads\u001b[0m\u001b[0;34m\u001b[0m\u001b[0;34m\u001b[0m\u001b[0m\n\u001b[0;32m---> 13\u001b[0;31m \u001b[0;32mimport\u001b[0m \u001b[0mfenestration_functions\u001b[0m \u001b[0;32mas\u001b[0m \u001b[0mfunc\u001b[0m\u001b[0;34m\u001b[0m\u001b[0m\n\u001b[0m\u001b[1;32m     14\u001b[0m \u001b[0;32mimport\u001b[0m \u001b[0mIntGains_Inf_Vent_DistrLosses\u001b[0m \u001b[0;32mas\u001b[0m \u001b[0miv\u001b[0m\u001b[0;34m\u001b[0m\u001b[0m\n\u001b[1;32m     15\u001b[0m \u001b[0;32mimport\u001b[0m \u001b[0mFunctionsOpaque\u001b[0m \u001b[0;32mas\u001b[0m \u001b[0mfuncOp\u001b[0m\u001b[0;34m\u001b[0m\u001b[0m\n",
      "\u001b[0;31mImportError\u001b[0m: No module named fenestration_functions"
     ]
    }
   ],
   "source": [
    "import sys\n",
    "import os\n",
    "ThisFileDirectory=os.path.dirname(sys.argv[0])\n",
    "os.chdir(ThisFileDirectory)\n",
    "print os.getcwd()  #printing the working directory\n",
    "\n",
    "import numpy as np\n",
    "import pandas as pd\n",
    "import matplotlib.pyplot as plt\n",
    "import scipy as sp\n",
    "\n",
    "#importing all the functions to calculate heat loads via fenestrations, internalgains ,psychrometric data, opaque parts and latent loads\n",
    "import fenestration_functions as func\n",
    "import IntGains_Inf_Vent_DistrLosses as iv\n",
    "import FunctionsOpaque as funcOp\n",
    "import psySI as SI\n",
    "import latent_functions as lat\n"
   ]
  },
  {
   "cell_type": "code",
   "execution_count": null,
   "metadata": {
    "collapsed": true
   },
   "outputs": [],
   "source": []
  }
 ],
 "metadata": {
  "kernelspec": {
   "display_name": "Python 2",
   "language": "python",
   "name": "python2"
  },
  "language_info": {
   "codemirror_mode": {
    "name": "ipython",
    "version": 2
   },
   "file_extension": ".py",
   "mimetype": "text/x-python",
   "name": "python",
   "nbconvert_exporter": "python",
   "pygments_lexer": "ipython2",
   "version": "2.7.13"
  }
 },
 "nbformat": 4,
 "nbformat_minor": 2
}
