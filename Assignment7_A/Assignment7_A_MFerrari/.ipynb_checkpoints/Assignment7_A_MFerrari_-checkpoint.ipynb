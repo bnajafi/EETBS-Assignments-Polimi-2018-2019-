{
 "cells": [
  {
   "cell_type": "markdown",
   "metadata": {},
   "source": [
    "## Assignment 7_A_MFerrari"
   ]
  },
  {
   "cell_type": "markdown",
   "metadata": {},
   "source": [
    "In this assignment I'm solving an exercise using the **RLF method**.  At the end I'm going to plot, using *pie charts*, the different shares of heating and cooling loads due to opaque surfaces and windows. In addition I'm also gonna plot the shares of the loads due to different exposures of the windows."
   ]
  },
  {
   "cell_type": "markdown",
   "metadata": {},
   "source": [
    "First, I import all the **module** I need."
   ]
  },
  {
   "cell_type": "code",
   "execution_count": 39,
   "metadata": {
    "collapsed": false,
    "deletable": true,
    "editable": true
   },
   "outputs": [],
   "source": [
    "import os, sys, pandas as pd, numpy as np, matplotlib.pyplot as plt, scipy as sp"
   ]
  },
  {
   "cell_type": "markdown",
   "metadata": {},
   "source": [
    "With the following command I avoid the *warning* caused by the attempt of changing the value of objects in data frames."
   ]
  },
  {
   "cell_type": "code",
   "execution_count": 40,
   "metadata": {
    "collapsed": true,
    "deletable": true,
    "editable": true
   },
   "outputs": [],
   "source": [
    "pd.set_option('mode.chained_assignment', None)"
   ]
  },
  {
   "cell_type": "markdown",
   "metadata": {},
   "source": [
    "With the next command I go in the folder where all the files I need are."
   ]
  },
  {
   "cell_type": "code",
   "execution_count": 41,
   "metadata": {
    "collapsed": true,
    "deletable": true,
    "editable": true
   },
   "outputs": [],
   "source": [
    "ThisFileDirectory = r\"C:\\Users\\Mirko\\Desktop\\University\\4th year\\First semester\\Energy and environmental technologies for building systems\\Labs\\Scripts\\Assignment 7_A_Mirko\"\n",
    "os.chdir(ThisFileDirectory)"
   ]
  },
  {
   "cell_type": "markdown",
   "metadata": {},
   "source": [
    "Now, I'm importing all the **functions** I'll use to solve the problem."
   ]
  },
  {
   "cell_type": "code",
   "execution_count": 43,
   "metadata": {
    "collapsed": false,
    "deletable": true,
    "editable": true
   },
   "outputs": [],
   "source": [
    "import psySI as SI"
   ]
  },
  {
   "cell_type": "code",
   "execution_count": 44,
   "metadata": {
    "collapsed": true,
    "deletable": true,
    "editable": true
   },
   "outputs": [],
   "source": [
    "import latent_functions as lat"
   ]
  },
  {
   "cell_type": "code",
   "execution_count": 45,
   "metadata": {
    "collapsed": false,
    "deletable": true,
    "editable": true
   },
   "outputs": [],
   "source": [
    "import IntGains_Inf_Vent_DistrLosses as iv"
   ]
  },
  {
   "cell_type": "code",
   "execution_count": 46,
   "metadata": {
    "collapsed": false,
    "deletable": true,
    "editable": true
   },
   "outputs": [],
   "source": [
    "import fenestration_functions as func"
   ]
  },
  {
   "cell_type": "code",
   "execution_count": 47,
   "metadata": {
    "collapsed": false,
    "deletable": true,
    "editable": true
   },
   "outputs": [],
   "source": [
    "import FunctionsOpaque as funcOp"
   ]
  },
  {
   "cell_type": "markdown",
   "metadata": {},
   "source": [
    "**Weather input of Piacenza.**\n"
   ]
  },
  {
   "cell_type": "code",
   "execution_count": 49,
   "metadata": {
    "collapsed": true
   },
   "outputs": [],
   "source": [
    "inputs_DF = pd.read_csv(\"input_weather_Piacenza.csv\",sep=\";\",index_col=0)\n",
    "inputs_list = func.weather_data_calculator(inputs_DF)"
   ]
  },
  {
   "cell_type": "markdown",
   "metadata": {},
   "source": [
    "**Input data.**\n"
   ]
  },
  {
   "cell_type": "code",
   "execution_count": 50,
   "metadata": {
    "collapsed": true
   },
   "outputs": [],
   "source": [
    "numericalDataDF = pd.read_csv(\"input_numerical_data.csv\",sep=\";\",index_col= 0)  \n",
    "dataDF = pd.read_csv(\"input_data.csv\",sep=\";\",index_col= 0)     \n",
    "materials_DataFrame = pd.read_csv(\"resistences_materials.csv\",sep=\";\",index_col= 1)"
   ]
  },
  {
   "cell_type": "markdown",
   "metadata": {},
   "source": [
    "**Fenestration surfaces calculations.**\n"
   ]
  },
  {
   "cell_type": "code",
   "execution_count": 51,
   "metadata": {
    "collapsed": true
   },
   "outputs": [],
   "source": [
    "windows_DF = pd.read_csv(\"input_fenestration.csv\",sep=\";\",index_col=0) \n",
    "windows_DF[\"Area\"] = windows_DF[\"Height\"]*windows_DF[\"Width\"]"
   ]
  },
  {
   "cell_type": "markdown",
   "metadata": {},
   "source": [
    "## For winter.\n"
   ]
  },
  {
   "cell_type": "code",
   "execution_count": 52,
   "metadata": {
    "collapsed": true
   },
   "outputs": [],
   "source": [
    "inputWalls_DataFrame_winter = pd.read_csv(\"input_data_walls_winter.csv\",sep=\";\",index_col= 0)\n",
    "inputDoor_DataFrame_winter = pd.read_csv(\"input_data_door_winter.csv\",sep=\";\",index_col= 0)"
   ]
  },
  {
   "cell_type": "markdown",
   "metadata": {},
   "source": [
    "**Calculating the heat transfer coefficients for opaque surfaces in winter.**\n"
   ]
  },
  {
   "cell_type": "code",
   "execution_count": 53,
   "metadata": {
    "collapsed": true
   },
   "outputs": [],
   "source": [
    "U_wall_winter = funcOp.Utot_wall_Calculator(inputWalls_DataFrame_winter,materials_DataFrame)  \n",
    "U_door_winter = funcOp.Utot_door_Calculator(inputDoor_DataFrame_winter,materials_DataFrame)  \n",
    "U_ceiling_winter = numericalDataDF[\"value\"][\"U_ceiling\"]"
   ]
  },
  {
   "cell_type": "markdown",
   "metadata": {},
   "source": [
    "**Calculating the heating load due to the opaque surfaces.**\n"
   ]
  },
  {
   "cell_type": "code",
   "execution_count": 56,
   "metadata": {
    "collapsed": true
   },
   "outputs": [],
   "source": [
    "QtotOpaque_winter = funcOp.QtotOpaque_winter_calculator(numericalDataDF[\"value\"][\"height_windows\"],numericalDataDF[\"value\"][\"width_windowsS\"],numericalDataDF[\"value\"][\"width_windowsE\"],numericalDataDF[\"value\"][\"width_windowsW\"],U_wall_winter,numericalDataDF[\"value\"][\"U_ceiling\"],U_door_winter,inputs_list[\"deltaTheating\"])\n",
    "opaque_DataFrame = pd.read_csv(\"opaque_DataFrame_modified.csv\",sep=\",\",index_col= 0)\n",
    "Walls_w = opaque_DataFrame[\"Q_winter\"][\"Walls\"]\n",
    "Ceiling_w = opaque_DataFrame[\"Q_winter\"][\"Ceiling\"]\n",
    "Doors_w = opaque_DataFrame[\"Q_winter\"][\"Doors\"]"
   ]
  },
  {
   "cell_type": "markdown",
   "metadata": {},
   "source": [
    "**Calculating the heating load due to the windows.**"
   ]
  },
  {
   "cell_type": "code",
   "execution_count": 55,
   "metadata": {
    "collapsed": false
   },
   "outputs": [
    {
     "data": {
      "text/plain": [
       "Window\n",
       "East              380.3328\n",
       "West              507.1104\n",
       "South fixed       190.1664\n",
       "South operable    192.1752\n",
       "Name: Qheating, dtype: float64"
      ]
     },
     "execution_count": 55,
     "metadata": {},
     "output_type": "execute_result"
    }
   ],
   "source": [
    "Qfen_heating_load = func.Qfen_heating_calculator(windows_DF,inputs_list)\n",
    "windows_DF[\"Qheating\"]"
   ]
  },
  {
   "cell_type": "markdown",
   "metadata": {},
   "source": [
    "## For summer."
   ]
  },
  {
   "cell_type": "code",
   "execution_count": 57,
   "metadata": {
    "collapsed": true
   },
   "outputs": [],
   "source": [
    "inputWalls_DataFrame_summer = pd.read_csv(\"input_data_walls_summer.csv\",sep=\";\",index_col= 0)\n",
    "inputDoor_DataFrame_summer = pd.read_csv(\"input_data_door_summer.csv\",sep=\";\",index_col= 0) "
   ]
  },
  {
   "cell_type": "markdown",
   "metadata": {},
   "source": [
    "**Calculating the heat transfer coefficients for opaque surfaces in summer.**"
   ]
  },
  {
   "cell_type": "code",
   "execution_count": 58,
   "metadata": {
    "collapsed": true
   },
   "outputs": [],
   "source": [
    "U_wall_summer = funcOp.Utot_wall_Calculator(inputWalls_DataFrame_summer,materials_DataFrame)  \n",
    "U_door_summer = funcOp.Utot_door_Calculator(inputDoor_DataFrame_summer,materials_DataFrame)  \n",
    "U_ceiling_summer = numericalDataDF[\"value\"][\"U_ceiling\"]"
   ]
  },
  {
   "cell_type": "markdown",
   "metadata": {},
   "source": [
    "**Calculating the cooling load due to the opaque surfaces.**"
   ]
  },
  {
   "cell_type": "code",
   "execution_count": 59,
   "metadata": {
    "collapsed": true
   },
   "outputs": [],
   "source": [
    "QtotOpaque_summer = funcOp.QtotOpaque_summer_calculator(numericalDataDF[\"value\"][\"height_windows\"],numericalDataDF[\"value\"][\"width_windowsS\"],numericalDataDF[\"value\"][\"width_windowsE\"],numericalDataDF[\"value\"][\"width_windowsW\"],U_wall_summer,numericalDataDF[\"value\"][\"U_ceiling\"],U_door_summer,dataDF[\"characteristic\"][\"colour_roof\"],dataDF[\"characteristic\"][\"material_roof\"],inputs_list[\"deltaTcooling\"],inputs_list[\"DRcooling\"],dataDF[\"characteristic\"][\"walls_surface_type\"],dataDF[\"characteristic\"][\"ceiling_surface_type\"],dataDF[\"characteristic\"][\"doors_surface_type\"])\n",
    "opaque_DataFrame = pd.read_csv(\"opaque_DataFrame_modified.csv\",sep=\",\",index_col= 0)\n",
    "Walls_s = opaque_DataFrame[\"Qsummer\"][\"Walls\"]\n",
    "Ceiling_s = opaque_DataFrame[\"Qsummer\"][\"Ceiling\"]\n",
    "Doors_s = opaque_DataFrame[\"Qsummer\"][\"Doors\"]"
   ]
  },
  {
   "cell_type": "markdown",
   "metadata": {},
   "source": [
    "**Calculating the cooling load due to the windows.**"
   ]
  },
  {
   "cell_type": "code",
   "execution_count": 60,
   "metadata": {
    "collapsed": false
   },
   "outputs": [
    {
     "name": "stdout",
     "output_type": "stream",
     "text": [
      "The interior shading for this window is not included in the library\n",
      "The interior shading for this window is not included in the library\n",
      "The interior shading for this window is not included in the library\n",
      "The interior shading for this window is not included in the library\n"
     ]
    },
    {
     "data": {
      "text/plain": [
       "Window\n",
       "East               485.741048\n",
       "West              1129.951411\n",
       "South fixed        145.351684\n",
       "South operable      87.900814\n",
       "Name: Qcooling, dtype: float64"
      ]
     },
     "execution_count": 60,
     "metadata": {},
     "output_type": "execute_result"
    }
   ],
   "source": [
    "Qfen_cooling_load = func.Qfen_cooling_calculator(windows_DF,inputs_list)\n",
    "windows_DF[\"Qcooling\"]"
   ]
  },
  {
   "cell_type": "markdown",
   "metadata": {},
   "source": [
    "**Infiltration, ventilation and distribution losses calculations.**"
   ]
  },
  {
   "cell_type": "code",
   "execution_count": 61,
   "metadata": {
    "collapsed": true
   },
   "outputs": [],
   "source": [
    "input_data_inf_vent = pd.read_csv(\"input_inf_vent.csv\",sep = \";\",index_col=0) \n",
    "Output_Inf_Vent = iv.inf_vent_load_calc(input_data_inf_vent)\n",
    "input_data_distribution = pd.read_csv(\"input_distribution.csv\",sep = \";\",index_col=0) \n",
    "Losses = iv.Q_distri_Losses(input_data_distribution,Qfen_heating_load,Qfen_cooling_load,QtotOpaque_winter,QtotOpaque_summer,Output_Inf_Vent.iloc[7][0],Output_Inf_Vent.iloc[6][0],Output_Inf_Vent.iloc[8][0])"
   ]
  },
  {
   "cell_type": "markdown",
   "metadata": {},
   "source": [
    "**Latent result.**"
   ]
  },
  {
   "cell_type": "code",
   "execution_count": 62,
   "metadata": {
    "collapsed": true
   },
   "outputs": [],
   "source": [
    "QtotLatent = lat.Qtot_latent (input_data_inf_vent, inputs_list)"
   ]
  },
  {
   "cell_type": "markdown",
   "metadata": {},
   "source": [
    "**Final result.**"
   ]
  },
  {
   "cell_type": "code",
   "execution_count": 63,
   "metadata": {
    "collapsed": false
   },
   "outputs": [
    {
     "name": "stdout",
     "output_type": "stream",
     "text": [
      "                         Heating      Cooling\n",
      "Loads                                        \n",
      "Q_opaque             2407.283677  1071.441219\n",
      "Q_windows            1269.784800  1848.944958\n",
      "Q_below                 0.000000     0.000000\n",
      "Q_internalGain          0.000000   540.800000\n",
      "Q_infiltVentilation  2294.742710   427.349773\n",
      "Q_distribLosses       955.000000  1049.000000\n",
      "Q_sensible_tot       6926.811187  4937.535950\n",
      "Q_latent                0.000000   610.200309\n"
     ]
    }
   ],
   "source": [
    "results_DF = pd.read_csv(\"results_empty.csv\",sep=\";\",index_col=0)     \n",
    "results_DF[\"Heating\"] = [QtotOpaque_winter,Qfen_heating_load,0,0,Output_Inf_Vent.iloc[7][0],Losses.iloc[0][0],0,0]\n",
    "results_DF[\"Cooling\"] = [QtotOpaque_summer,Qfen_cooling_load,0,Output_Inf_Vent.iloc[8][0],Output_Inf_Vent.iloc[6][0],Losses.iloc[1][0],0,QtotLatent]\n",
    "for column in results_DF.columns.tolist():\n",
    "        sensible_loads = pd.Series(results_DF[column][0:6])     \n",
    "        results_DF[column][\"Q_sensible_tot\"] = sensible_loads.sum()       \n",
    "print(results_DF)"
   ]
  },
  {
   "cell_type": "markdown",
   "metadata": {},
   "source": [
    "## **Now we show graphically the results.**\n"
   ]
  },
  {
   "cell_type": "code",
   "execution_count": 65,
   "metadata": {
    "collapsed": false
   },
   "outputs": [
    {
     "data": {
      "image/png": "[encoded data removed]",
      "text/plain": [
       "<matplotlib.figure.Figure at 0xadc02b0>"
      ]
     },
     "metadata": {},
     "output_type": "display_data"
    },
    {
     "data": {
      "image/png": "[encoded data removed]",
      "text/plain": [
       "<matplotlib.figure.Figure at 0xc24ceb8>"
      ]
     },
     "metadata": {},
     "output_type": "display_data"
    },
    {
     "data": {
      "image/png": "[encoded data removed]",
      "text/plain": [
       "<matplotlib.figure.Figure at 0xbcbaf28>"
      ]
     },
     "metadata": {},
     "output_type": "display_data"
    },
    {
     "data": {
      "image/png": "[encoded data removed]",
      "text/plain": [
       "<matplotlib.figure.Figure at 0xb2a9b38>"
      ]
     },
     "metadata": {},
     "output_type": "display_data"
    }
   ],
   "source": [
    "plt.figure()\n",
    "plt.subplot(2,1,1)\n",
    "labs = ['Walls','Ceiling','Doors','Windows']\n",
    "cols = [\"b\",\"maroon\",\"goldenrod\",\"g\"]\n",
    "slices = [Walls_w, Ceiling_w, Doors_w, Qfen_heating_load]\n",
    "plt.pie(slices, labels = labs, colors = cols,\n",
    "        startangle = 90, shadow = True, explode = (0,0,0,0.1),\n",
    "        autopct=\"%1.1f%%\"\n",
    "        )    \n",
    "plt.title(\"Opaque surfaces VS Windows in winter!\")\n",
    "plt.show()\n",
    "\n",
    "plt.subplot(2,1,2)\n",
    "labs = ['East','West','South fixed','South operable']\n",
    "cols = [\"b\",\"maroon\",\"goldenrod\",\"g\"]\n",
    "slices = [windows_DF[\"Qheating\"][\"East\"], windows_DF[\"Qheating\"][\"West\"], windows_DF[\"Qheating\"][\"South fixed\"], windows_DF[\"Qheating\"][\"South operable\"]]\n",
    "plt.pie(slices, labels = labs, colors = cols,\n",
    "        startangle = 90, shadow = True, \n",
    "        autopct=\"%1.1f%%\"\n",
    "        )    \n",
    "plt.title(\"Windows different exposures' shares in winter!\")\n",
    "plt.show()\n",
    "\n",
    "plt.figure()\n",
    "plt.subplot(2,1,1)\n",
    "labs = ['Walls','Ceiling','Doors','Windows']\n",
    "cols = [\"b\",\"maroon\",\"goldenrod\",\"g\"]\n",
    "slices = [Walls_s, Ceiling_s, Doors_s, Qfen_cooling_load]\n",
    "plt.pie(slices, labels = labs, colors = cols,\n",
    "        startangle = 90, shadow = True, explode = (0,0,0,0.1),\n",
    "        autopct=\"%1.1f%%\"\n",
    "        )    \n",
    "plt.title(\"Opaque surfaces VS Windows in summer!\")\n",
    "plt.show()\n",
    "\n",
    "plt.subplot(2,1,2)\n",
    "labs = ['East','West','South fixed','South operable']\n",
    "cols = [\"b\",\"maroon\",\"goldenrod\",\"g\"]\n",
    "slices = [windows_DF[\"Qcooling\"][\"East\"], windows_DF[\"Qcooling\"][\"West\"], windows_DF[\"Qcooling\"][\"South fixed\"], windows_DF[\"Qcooling\"][\"South operable\"]]\n",
    "plt.pie(slices, labels = labs, colors = cols,\n",
    "        startangle = 90, shadow = True, \n",
    "        autopct=\"%1.1f%%\"\n",
    "        )    \n",
    "plt.title(\"Windows different exposures' shares in summer!\")\n",
    "plt.show()"
   ]
  },
  {
   "cell_type": "code",
   "execution_count": null,
   "metadata": {
    "collapsed": true
   },
   "outputs": [],
   "source": []
  }
 ],
 "metadata": {
  "kernelspec": {
   "display_name": "Python 2",
   "language": "python",
   "name": "python2"
  },
  "language_info": {
   "codemirror_mode": {
    "name": "ipython",
    "version": 2
   },
   "file_extension": ".py",
   "mimetype": "text/x-python",
   "name": "python",
   "nbconvert_exporter": "python",
   "pygments_lexer": "ipython2",
   "version": "2.7.13"
  }
 },
 "nbformat": 4,
 "nbformat_minor": 2
}
