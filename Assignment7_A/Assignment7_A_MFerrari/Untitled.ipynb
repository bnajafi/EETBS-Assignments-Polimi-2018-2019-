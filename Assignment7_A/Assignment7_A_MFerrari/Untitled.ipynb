{
 "cells": [
  {
   "cell_type": "code",
   "execution_count": 1,
   "metadata": {
    "collapsed": false
   },
   "outputs": [
    {
     "name": "stdout",
     "output_type": "stream",
     "text": [
      "C:\\Users\\Mirko\\AppData\\Local\\Enthought\\Canopy\\edm\\envs\\User\\lib\\site-packages\\ipykernel\n"
     ]
    },
    {
     "ename": "ImportError",
     "evalue": "No module named fenestration_functions",
     "output_type": "error",
     "traceback": [
      "\u001b[1;31m---------------------------------------------------------------------------\u001b[0m",
      "\u001b[1;31mImportError\u001b[0m                               Traceback (most recent call last)",
      "\u001b[1;32m<ipython-input-1-bfdf44c4222d>\u001b[0m in \u001b[0;36m<module>\u001b[1;34m()\u001b[0m\n\u001b[0;32m     11\u001b[0m \u001b[1;32mimport\u001b[0m \u001b[0mscipy\u001b[0m \u001b[1;32mas\u001b[0m \u001b[0msp\u001b[0m\u001b[1;33m\u001b[0m\u001b[0m\n\u001b[0;32m     12\u001b[0m \u001b[1;31m#Importing all the functions to calculate heat loads due to windows, internal gains, opaque surfaces and latent loads and to find psychrometric data.\u001b[0m\u001b[1;33m\u001b[0m\u001b[1;33m\u001b[0m\u001b[0m\n\u001b[1;32m---> 13\u001b[1;33m \u001b[1;32mimport\u001b[0m \u001b[0mfenestration_functions\u001b[0m \u001b[1;32mas\u001b[0m \u001b[0mfunc\u001b[0m\u001b[1;33m\u001b[0m\u001b[0m\n\u001b[0m\u001b[0;32m     14\u001b[0m \u001b[1;32mimport\u001b[0m \u001b[0mIntGains_Inf_Vent_DistrLosses\u001b[0m \u001b[1;32mas\u001b[0m \u001b[0miv\u001b[0m\u001b[1;33m\u001b[0m\u001b[0m\n\u001b[0;32m     15\u001b[0m \u001b[1;32mimport\u001b[0m \u001b[0mFunctionsOpaque\u001b[0m \u001b[1;32mas\u001b[0m \u001b[0mfuncOp\u001b[0m\u001b[1;33m\u001b[0m\u001b[0m\n",
      "\u001b[1;31mImportError\u001b[0m: No module named fenestration_functions"
     ]
    }
   ],
   "source": [
    "#Printing the working directory.\n",
    "import sys\n",
    "import os\n",
    "ThisFileDirectory=os.path.dirname(sys.argv[0])\n",
    "os.chdir(ThisFileDirectory)\n",
    "print os.getcwd()  \n",
    "#Importing the modules we need.\n",
    "import numpy as np\n",
    "import pandas as pd\n",
    "import matplotlib.pyplot as plt\n",
    "import scipy as sp\n",
    "#Importing all the functions to calculate heat loads due to windows, internal gains, opaque surfaces and latent loads and to find psychrometric data.\n",
    "import fenestration_functions as func\n",
    "import IntGains_Inf_Vent_DistrLosses as iv\n",
    "import FunctionsOpaque as funcOp\n",
    "import psySI as SI\n",
    "import latent_functions as lat\n",
    "\n",
    "#Weather input of Piacenza.\n",
    "inputs_DF = pd.read_csv(\"input_weather_Piacenza.csv\",sep=\";\",index_col=0)\n",
    "inputs_list = func.weather_data_calculator(inputs_DF)\n",
    "\n",
    "#Input data.\n",
    "numericalDataDF = pd.read_csv(\"input_numerical_data.csv\",sep=\";\",index_col= 0)  \n",
    "dataDF = pd.read_csv(\"input_data.csv\",sep=\";\",index_col= 0)     \n",
    "materials_DataFrame = pd.read_csv(\"resistences_materials.csv\",sep=\";\",index_col= 1)\n",
    "\n",
    "#Fenestration surfaces calculations.\n",
    "windows_DF = pd.read_csv(\"input_fenestration.csv\",sep=\";\",index_col=0) \n",
    "windows_DF[\"Area\"] = windows_DF[\"Height\"]*windows_DF[\"Width\"]\n",
    "\n",
    "#For winter.\n",
    "inputWalls_DataFrame_winter = pd.read_csv(\"input_data_walls_winter.csv\",sep=\";\",index_col= 0)\n",
    "inputDoor_DataFrame_winter = pd.read_csv(\"input_data_door_winter.csv\",sep=\";\",index_col= 0)\n",
    "#Calculating the heat transfer coefficients for opaque surfaces in winter.\n",
    "U_wall_winter = funcOp.Utot_wall_Calculator(inputWalls_DataFrame_winter,materials_DataFrame)  \n",
    "U_door_winter = funcOp.Utot_door_Calculator(inputDoor_DataFrame_winter,materials_DataFrame)  \n",
    "U_ceiling_winter = numericalDataDF[\"value\"][\"U_ceiling\"]\n",
    "#Calculating the heating load due to the opaque surfaces.\n",
    "QtotOpaque_winter = funcOp.QtotOpaque_winter_calculator(numericalDataDF[\"value\"][\"height_windows\"],numericalDataDF[\"value\"][\"width_windowsS\"],numericalDataDF[\"value\"][\"width_windowsE\"],numericalDataDF[\"value\"][\"width_windowsW\"],U_wall_winter,numericalDataDF[\"value\"][\"U_ceiling\"],U_door_winter,inputs_list[\"deltaTheating\"])\n",
    "opaque_DataFrame = pd.read_csv(\"opaque_DataFrame_modified.csv\",sep=\",\",index_col= 0)\n",
    "Walls_w = opaque_DataFrame[\"Q_winter\"][\"Walls\"]\n",
    "Ceiling_w = opaque_DataFrame[\"Q_winter\"][\"Ceiling\"]\n",
    "Doors_w = opaque_DataFrame[\"Q_winter\"][\"Doors\"]\n",
    "#Calculating the heating load due to the windows.\n",
    "Qfen_heating_load = func.Qfen_heating_calculator(windows_DF,inputs_list)\n",
    "windows_DF[\"Qheating\"]\n",
    "\n",
    "#For summer.\n",
    "inputWalls_DataFrame_summer = pd.read_csv(\"input_data_walls_summer.csv\",sep=\";\",index_col= 0)\n",
    "inputDoor_DataFrame_summer = pd.read_csv(\"input_data_door_summer.csv\",sep=\";\",index_col= 0) \n",
    "#Calculating the heat transfer coefficients for opaque surfaces in summer.\n",
    "U_wall_summer = funcOp.Utot_wall_Calculator(inputWalls_DataFrame_summer,materials_DataFrame)  \n",
    "U_door_summer = funcOp.Utot_door_Calculator(inputDoor_DataFrame_summer,materials_DataFrame)  \n",
    "U_ceiling_summer = numericalDataDF[\"value\"][\"U_ceiling\"]\n",
    "#Calculating the cooling load due to the opaque surfaces.\n",
    "QtotOpaque_summer = funcOp.QtotOpaque_summer_calculator(numericalDataDF[\"value\"][\"height_windows\"],numericalDataDF[\"value\"][\"width_windowsS\"],numericalDataDF[\"value\"][\"width_windowsE\"],numericalDataDF[\"value\"][\"width_windowsW\"],U_wall_summer,numericalDataDF[\"value\"][\"U_ceiling\"],U_door_summer,dataDF[\"characteristic\"][\"colour_roof\"],dataDF[\"characteristic\"][\"material_roof\"],inputs_list[\"deltaTcooling\"],inputs_list[\"DRcooling\"],dataDF[\"characteristic\"][\"walls_surface_type\"],dataDF[\"characteristic\"][\"ceiling_surface_type\"],dataDF[\"characteristic\"][\"doors_surface_type\"])\n",
    "opaque_DataFrame = pd.read_csv(\"opaque_DataFrame_modified.csv\",sep=\",\",index_col= 0)\n",
    "Walls_s = opaque_DataFrame[\"Qsummer\"][\"Walls\"]\n",
    "Ceiling_s = opaque_DataFrame[\"Qsummer\"][\"Ceiling\"]\n",
    "Doors_s = opaque_DataFrame[\"Qsummer\"][\"Doors\"]\n",
    "#Calculating the cooling load due to the windows.\n",
    "Qfen_cooling_load = func.Qfen_cooling_calculator(windows_DF,inputs_list)\n",
    "windows_DF[\"Qcooling\"]\n",
    "#Infiltration, ventilation and distribution losses calculations.\n",
    "input_data_inf_vent = pd.read_csv(\"input_inf_vent.csv\",sep = \";\",index_col=0) \n",
    "Output_Inf_Vent = iv.inf_vent_load_calc(input_data_inf_vent)\n",
    "input_data_distribution = pd.read_csv(\"input_distribution.csv\",sep = \";\",index_col=0) \n",
    "Losses = iv.Q_distri_Losses(input_data_distribution,Qfen_heating_load,Qfen_cooling_load,QtotOpaque_winter,QtotOpaque_summer,Output_Inf_Vent.iloc[7][0],Output_Inf_Vent.iloc[6][0],Output_Inf_Vent.iloc[8][0])\n",
    "    \n",
    "#Latent result.\n",
    "QtotLatent = lat.Qtot_latent (input_data_inf_vent, inputs_list)\n",
    "\n",
    "#Final result.\n",
    "results_DF = pd.read_csv(\"results_empty.csv\",sep=\";\",index_col=0)     \n",
    "results_DF[\"Heating\"] = [QtotOpaque_winter,Qfen_heating_load,0,0,Output_Inf_Vent.iloc[7][0],Losses.iloc[0][0],0,0]\n",
    "results_DF[\"Cooling\"] = [QtotOpaque_summer,Qfen_cooling_load,0,Output_Inf_Vent.iloc[8][0],Output_Inf_Vent.iloc[6][0],Losses.iloc[1][0],0,QtotLatent]\n",
    "for column in results_DF.columns.tolist():\n",
    "        sensible_loads = pd.Series(results_DF[column][0:6])     \n",
    "        results_DF[column][\"Q_sensible_tot\"] = sensible_loads.sum()       \n",
    "print(results_DF)\n",
    "#Now we show graphically the results. First for winter.\n",
    "plt.figure()\n",
    "plt.subplot(2,1,1)\n",
    "labs = ['Walls','Ceiling','Doors','Windows']\n",
    "cols = [\"b\",\"maroon\",\"goldenrod\",\"g\"]\n",
    "slices = [Walls_w, Ceiling_w, Doors_w, Qfen_heating_load]\n",
    "plt.pie(slices, labels = labs, colors = cols,\n",
    "        startangle = 90, shadow = True, explode = (0,0,0,0.1),\n",
    "        autopct=\"%1.1f%%\"\n",
    "        )    \n",
    "plt.title(\"Opaque surfaces VS Windows in winter!\")\n",
    "plt.show()\n",
    "#Now we plot the shares of heating load between different exposures.\n",
    "plt.subplot(2,1,2)\n",
    "labs = ['East','West','South fixed','South operable']\n",
    "cols = [\"b\",\"maroon\",\"goldenrod\",\"g\"]\n",
    "slices = [windows_DF[\"Qheating\"][\"East\"], windows_DF[\"Qheating\"][\"West\"], windows_DF[\"Qheating\"][\"South fixed\"], windows_DF[\"Qheating\"][\"South operable\"]]\n",
    "plt.pie(slices, labels = labs, colors = cols,\n",
    "        startangle = 90, shadow = True, \n",
    "        autopct=\"%1.1f%%\"\n",
    "        )    \n",
    "plt.title(\"Windows different exposures' shares in winter!\")\n",
    "plt.show()\n",
    "\n",
    "#Now for summer.\n",
    "plt.figure()\n",
    "plt.subplot(2,1,1)\n",
    "labs = ['Walls','Ceiling','Doors','Windows']\n",
    "cols = [\"b\",\"maroon\",\"goldenrod\",\"g\"]\n",
    "slices = [Walls_s, Ceiling_s, Doors_s, Qfen_cooling_load]\n",
    "plt.pie(slices, labels = labs, colors = cols,\n",
    "        startangle = 90, shadow = True, explode = (0,0,0,0.1),\n",
    "        autopct=\"%1.1f%%\"\n",
    "        )    \n",
    "plt.title(\"Opaque surfaces VS Windows in summer!\")\n",
    "plt.show()\n",
    "#Now we plot the shares of heating load between different exposures.\n",
    "plt.subplot(2,1,2)\n",
    "labs = ['East','West','South fixed','South operable']\n",
    "cols = [\"b\",\"maroon\",\"goldenrod\",\"g\"]\n",
    "slices = [windows_DF[\"Qcooling\"][\"East\"], windows_DF[\"Qcooling\"][\"West\"], windows_DF[\"Qcooling\"][\"South fixed\"], windows_DF[\"Qcooling\"][\"South operable\"]]\n",
    "plt.pie(slices, labels = labs, colors = cols,\n",
    "        startangle = 90, shadow = True, \n",
    "        autopct=\"%1.1f%%\"\n",
    "        )    \n",
    "plt.title(\"Windows different exposures' shares in summer!\")\n",
    "plt.show()\n",
    "\n",
    "\n",
    "\n"
   ]
  },
  {
   "cell_type": "code",
   "execution_count": 2,
   "metadata": {
    "collapsed": false
   },
   "outputs": [
    {
     "data": {
      "text/plain": [
       "u'C:\\\\Users\\\\Mirko\\\\AppData\\\\Local\\\\Enthought\\\\Canopy\\\\edm\\\\envs\\\\User\\\\lib\\\\site-packages\\\\ipykernel'"
      ]
     },
     "execution_count": 2,
     "metadata": {},
     "output_type": "execute_result"
    }
   ],
   "source": [
    "pwd"
   ]
  },
  {
   "cell_type": "code",
   "execution_count": 9,
   "metadata": {
    "collapsed": false
   },
   "outputs": [
    {
     "name": "stdout",
     "output_type": "stream",
     "text": [
      "C:\\Users\\Mirko\\Desktop\\University\\4th year\\First semester\\Energy and environmental technologies for building systems\\Labs\\Scripts\\Assignment 7_A_Mirko\n"
     ]
    }
   ],
   "source": [
    "cd \"C:\\Users\\Mirko\\Desktop\\University\\4th year\\First semester\\Energy and environmental technologies for building systems\\Labs\\Scripts\\Assignment 7_A_Mirko\""
   ]
  },
  {
   "cell_type": "code",
   "execution_count": 5,
   "metadata": {
    "collapsed": false
   },
   "outputs": [
    {
     "data": {
      "text/plain": [
       "u'C:\\\\Users\\\\Mirko\\\\Desktop\\\\University\\\\4th year\\\\First semester\\\\Energy and environmental technologies for building systems\\\\Labs\\\\Scripts\\\\Assignment 7_A_Mirko'"
      ]
     },
     "execution_count": 5,
     "metadata": {},
     "output_type": "execute_result"
    }
   ],
   "source": [
    "pwd"
   ]
  },
  {
   "cell_type": "code",
   "execution_count": 11,
   "metadata": {
    "collapsed": false
   },
   "outputs": [
    {
     "name": "stdout",
     "output_type": "stream",
     "text": [
      "C:\\Users\\Mirko\\AppData\\Local\\Enthought\\Canopy\\edm\\envs\\User\\lib\\site-packages\\ipykernel\n"
     ]
    }
   ],
   "source": [
    "\n",
    "import psySI as SI\n",
    "import latent_functions as lat"
   ]
  },
  {
   "cell_type": "code",
   "execution_count": 8,
   "metadata": {
    "collapsed": false
   },
   "outputs": [
    {
     "data": {
      "text/plain": [
       "u'C:\\\\Users\\\\Mirko\\\\AppData\\\\Local\\\\Enthought\\\\Canopy\\\\edm\\\\envs\\\\User\\\\lib\\\\site-packages\\\\ipykernel'"
      ]
     },
     "execution_count": 8,
     "metadata": {},
     "output_type": "execute_result"
    }
   ],
   "source": [
    "pwd\n"
   ]
  },
  {
   "cell_type": "code",
   "execution_count": 10,
   "metadata": {
    "collapsed": false
   },
   "outputs": [
    {
     "data": {
      "text/plain": [
       "u'C:\\\\Users\\\\Mirko\\\\Desktop\\\\University\\\\4th year\\\\First semester\\\\Energy and environmental technologies for building systems\\\\Labs\\\\Scripts\\\\Assignment 7_A_Mirko'"
      ]
     },
     "execution_count": 10,
     "metadata": {},
     "output_type": "execute_result"
    }
   ],
   "source": [
    "pwd\n"
   ]
  },
  {
   "cell_type": "code",
   "execution_count": 12,
   "metadata": {
    "collapsed": false
   },
   "outputs": [
    {
     "data": {
      "text/plain": [
       "u'C:\\\\Users\\\\Mirko\\\\AppData\\\\Local\\\\Enthought\\\\Canopy\\\\edm\\\\envs\\\\User\\\\lib\\\\site-packages\\\\ipykernel'"
      ]
     },
     "execution_count": 12,
     "metadata": {},
     "output_type": "execute_result"
    }
   ],
   "source": [
    "pwd\n"
   ]
  },
  {
   "cell_type": "code",
   "execution_count": null,
   "metadata": {
    "collapsed": true
   },
   "outputs": [],
   "source": []
  }
 ],
 "metadata": {
  "kernelspec": {
   "display_name": "Python 2",
   "language": "python",
   "name": "python2"
  },
  "language_info": {
   "codemirror_mode": {
    "name": "ipython",
    "version": 2
   },
   "file_extension": ".py",
   "mimetype": "text/x-python",
   "name": "python",
   "nbconvert_exporter": "python",
   "pygments_lexer": "ipython2",
   "version": "2.7.13"
  }
 },
 "nbformat": 4,
 "nbformat_minor": 2
}
